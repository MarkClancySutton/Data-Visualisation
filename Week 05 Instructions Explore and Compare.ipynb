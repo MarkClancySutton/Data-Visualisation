{
 "cells": [
  {
   "cell_type": "markdown",
   "metadata": {},
   "source": [
    "# 5.  Explore and Compare"
   ]
  },
  {
   "cell_type": "markdown",
   "metadata": {},
   "source": [
    "## Steps:\n",
    "\n",
    " - Pick a dataset\n",
    " - Generate single variable histogram and box plot (or violin plot, if you'd prefer)\n",
    " - Check it for skewedness / requirement to subset.\n",
    " - Prepare the data (pivot, subset, summarize, create log column as required)\n",
    " - Regenerate the charts at 2 with the amended dataset.\n",
    " - Introduce a further categorical variable and generate a comparison bar chart.\n",
    " - Using Cowplot, generate a set of charts with a multiple density chart, multiple box plot and multiple bar chart.\n",
    " - Evaluate your charts using Gestalt and Accent.\n",
    " "
   ]
  },
  {
   "cell_type": "markdown",
   "metadata": {},
   "source": [
    "## Part 1. Pick a dataset\n",
    "- Find a dataset with categorical and numeric data - e.g.:\n",
    "     - olympics.csv (note: you may need to subset on the countries (denoted as NOC) who won medals)\n",
    "        -  df %>%  group_by(var1) %>%  mutate(var1_count = n())\n",
    "     - vgsales.csv (note: if the data is too skewed, use the log of the data \n",
    "        -  log(df\\$column))\n",
    "     - SCGOP2016.csv. This is a dataset showing the number of votes cast for each candidate per county in the 2016 Republican (GOP) primaries in 2016. Hint: limit the number of candidates to the three who got the most votes.\n",
    "   "
   ]
  },
  {
   "cell_type": "code",
   "execution_count": 21,
   "metadata": {},
   "outputs": [
    {
     "data": {
      "text/html": [
       "<table class=\"dataframe\">\n",
       "<caption>A data.frame: 6 × 11</caption>\n",
       "<thead>\n",
       "\t<tr><th></th><th scope=col>Rank</th><th scope=col>Name</th><th scope=col>Platform</th><th scope=col>Year</th><th scope=col>Genre</th><th scope=col>Publisher</th><th scope=col>NA_Sales</th><th scope=col>EU_Sales</th><th scope=col>JP_Sales</th><th scope=col>Other_Sales</th><th scope=col>Global_Sales</th></tr>\n",
       "\t<tr><th></th><th scope=col>&lt;int&gt;</th><th scope=col>&lt;chr&gt;</th><th scope=col>&lt;chr&gt;</th><th scope=col>&lt;chr&gt;</th><th scope=col>&lt;chr&gt;</th><th scope=col>&lt;chr&gt;</th><th scope=col>&lt;dbl&gt;</th><th scope=col>&lt;dbl&gt;</th><th scope=col>&lt;dbl&gt;</th><th scope=col>&lt;dbl&gt;</th><th scope=col>&lt;dbl&gt;</th></tr>\n",
       "</thead>\n",
       "<tbody>\n",
       "\t<tr><th scope=row>1</th><td>1</td><td>Wii Sports              </td><td>Wii</td><td>2006</td><td>Sports      </td><td>Nintendo</td><td>41.49</td><td>29.02</td><td> 3.77</td><td>8.46</td><td>82.74</td></tr>\n",
       "\t<tr><th scope=row>2</th><td>2</td><td>Super Mario Bros.       </td><td>NES</td><td>1985</td><td>Platform    </td><td>Nintendo</td><td>29.08</td><td> 3.58</td><td> 6.81</td><td>0.77</td><td>40.24</td></tr>\n",
       "\t<tr><th scope=row>3</th><td>3</td><td>Mario Kart Wii          </td><td>Wii</td><td>2008</td><td>Racing      </td><td>Nintendo</td><td>15.85</td><td>12.88</td><td> 3.79</td><td>3.31</td><td>35.82</td></tr>\n",
       "\t<tr><th scope=row>4</th><td>4</td><td>Wii Sports Resort       </td><td>Wii</td><td>2009</td><td>Sports      </td><td>Nintendo</td><td>15.75</td><td>11.01</td><td> 3.28</td><td>2.96</td><td>33.00</td></tr>\n",
       "\t<tr><th scope=row>5</th><td>5</td><td>Pokemon Red/Pokemon Blue</td><td>GB </td><td>1996</td><td>Role-Playing</td><td>Nintendo</td><td>11.27</td><td> 8.89</td><td>10.22</td><td>1.00</td><td>31.37</td></tr>\n",
       "\t<tr><th scope=row>6</th><td>6</td><td>Tetris                  </td><td>GB </td><td>1989</td><td>Puzzle      </td><td>Nintendo</td><td>23.20</td><td> 2.26</td><td> 4.22</td><td>0.58</td><td>30.26</td></tr>\n",
       "</tbody>\n",
       "</table>\n"
      ],
      "text/latex": [
       "A data.frame: 6 × 11\n",
       "\\begin{tabular}{r|lllllllllll}\n",
       "  & Rank & Name & Platform & Year & Genre & Publisher & NA\\_Sales & EU\\_Sales & JP\\_Sales & Other\\_Sales & Global\\_Sales\\\\\n",
       "  & <int> & <chr> & <chr> & <chr> & <chr> & <chr> & <dbl> & <dbl> & <dbl> & <dbl> & <dbl>\\\\\n",
       "\\hline\n",
       "\t1 & 1 & Wii Sports               & Wii & 2006 & Sports       & Nintendo & 41.49 & 29.02 &  3.77 & 8.46 & 82.74\\\\\n",
       "\t2 & 2 & Super Mario Bros.        & NES & 1985 & Platform     & Nintendo & 29.08 &  3.58 &  6.81 & 0.77 & 40.24\\\\\n",
       "\t3 & 3 & Mario Kart Wii           & Wii & 2008 & Racing       & Nintendo & 15.85 & 12.88 &  3.79 & 3.31 & 35.82\\\\\n",
       "\t4 & 4 & Wii Sports Resort        & Wii & 2009 & Sports       & Nintendo & 15.75 & 11.01 &  3.28 & 2.96 & 33.00\\\\\n",
       "\t5 & 5 & Pokemon Red/Pokemon Blue & GB  & 1996 & Role-Playing & Nintendo & 11.27 &  8.89 & 10.22 & 1.00 & 31.37\\\\\n",
       "\t6 & 6 & Tetris                   & GB  & 1989 & Puzzle       & Nintendo & 23.20 &  2.26 &  4.22 & 0.58 & 30.26\\\\\n",
       "\\end{tabular}\n"
      ],
      "text/markdown": [
       "\n",
       "A data.frame: 6 × 11\n",
       "\n",
       "| <!--/--> | Rank &lt;int&gt; | Name &lt;chr&gt; | Platform &lt;chr&gt; | Year &lt;chr&gt; | Genre &lt;chr&gt; | Publisher &lt;chr&gt; | NA_Sales &lt;dbl&gt; | EU_Sales &lt;dbl&gt; | JP_Sales &lt;dbl&gt; | Other_Sales &lt;dbl&gt; | Global_Sales &lt;dbl&gt; |\n",
       "|---|---|---|---|---|---|---|---|---|---|---|---|\n",
       "| 1 | 1 | Wii Sports               | Wii | 2006 | Sports       | Nintendo | 41.49 | 29.02 |  3.77 | 8.46 | 82.74 |\n",
       "| 2 | 2 | Super Mario Bros.        | NES | 1985 | Platform     | Nintendo | 29.08 |  3.58 |  6.81 | 0.77 | 40.24 |\n",
       "| 3 | 3 | Mario Kart Wii           | Wii | 2008 | Racing       | Nintendo | 15.85 | 12.88 |  3.79 | 3.31 | 35.82 |\n",
       "| 4 | 4 | Wii Sports Resort        | Wii | 2009 | Sports       | Nintendo | 15.75 | 11.01 |  3.28 | 2.96 | 33.00 |\n",
       "| 5 | 5 | Pokemon Red/Pokemon Blue | GB  | 1996 | Role-Playing | Nintendo | 11.27 |  8.89 | 10.22 | 1.00 | 31.37 |\n",
       "| 6 | 6 | Tetris                   | GB  | 1989 | Puzzle       | Nintendo | 23.20 |  2.26 |  4.22 | 0.58 | 30.26 |\n",
       "\n"
      ],
      "text/plain": [
       "  Rank Name                     Platform Year Genre        Publisher NA_Sales\n",
       "1 1    Wii Sports               Wii      2006 Sports       Nintendo  41.49   \n",
       "2 2    Super Mario Bros.        NES      1985 Platform     Nintendo  29.08   \n",
       "3 3    Mario Kart Wii           Wii      2008 Racing       Nintendo  15.85   \n",
       "4 4    Wii Sports Resort        Wii      2009 Sports       Nintendo  15.75   \n",
       "5 5    Pokemon Red/Pokemon Blue GB       1996 Role-Playing Nintendo  11.27   \n",
       "6 6    Tetris                   GB       1989 Puzzle       Nintendo  23.20   \n",
       "  EU_Sales JP_Sales Other_Sales Global_Sales\n",
       "1 29.02     3.77    8.46        82.74       \n",
       "2  3.58     6.81    0.77        40.24       \n",
       "3 12.88     3.79    3.31        35.82       \n",
       "4 11.01     3.28    2.96        33.00       \n",
       "5  8.89    10.22    1.00        31.37       \n",
       "6  2.26     4.22    0.58        30.26       "
      ]
     },
     "metadata": {},
     "output_type": "display_data"
    }
   ],
   "source": [
    "mydata = file.path(\"C:\",\"Users\",\"markc\",\"Desktop\",\"DataVisuals\",\"datasets\")\n",
    "\n",
    "datapath <-file.path(mydata,'vgsales.csv')\n",
    "df<-read.csv(datapath)\n",
    "head(df)"
   ]
  },
  {
   "cell_type": "markdown",
   "metadata": {},
   "source": [
    "## Part 2. Check and generate\n",
    " - Generate single variable histogram and box plot (or violin plot, if you'd prefer)\n",
    " - Check it for skewedness / requirement to subset.\n",
    " - Prepare the data (pivot, subset, summarize, create log column as required)\n",
    " - Regenerate the charts at 2 with the amended dataset.\n",
    " - Introduce a further categorical variable and generate a comparison bar chart.\n",
    " - Using Cowplot, generate a set of charts with a multiple density chart, multiple box plot and multiple bar chart."
   ]
  },
  {
   "cell_type": "code",
   "execution_count": 22,
   "metadata": {},
   "outputs": [],
   "source": [
    "lst <- sort(df$Global_Sales)  #  Replace df$column with your own column"
   ]
  },
  {
   "cell_type": "code",
   "execution_count": 12,
   "metadata": {},
   "outputs": [
    {
     "name": "stdout",
     "output_type": "stream",
     "text": [
      "[1] \"Inter Quartile Range Global Sales 0.41 million units\"\n",
      "[1] \"Quantile Global Sales \"\n"
     ]
    },
    {
     "data": {
      "text/html": [
       "<style>\n",
       ".dl-inline {width: auto; margin:0; padding: 0}\n",
       ".dl-inline>dt, .dl-inline>dd {float: none; width: auto; display: inline-block}\n",
       ".dl-inline>dt::after {content: \":\\0020\"; padding-right: .5ex}\n",
       ".dl-inline>dt:not(:first-of-type) {padding-left: .5ex}\n",
       "</style><dl class=dl-inline><dt>0%</dt><dd>0.01</dd><dt>25%</dt><dd>0.06</dd><dt>50%</dt><dd>0.17</dd><dt>75%</dt><dd>0.47</dd><dt>100%</dt><dd>82.74</dd></dl>\n"
      ],
      "text/latex": [
       "\\begin{description*}\n",
       "\\item[0\\textbackslash{}\\%] 0.01\n",
       "\\item[25\\textbackslash{}\\%] 0.06\n",
       "\\item[50\\textbackslash{}\\%] 0.17\n",
       "\\item[75\\textbackslash{}\\%] 0.47\n",
       "\\item[100\\textbackslash{}\\%] 82.74\n",
       "\\end{description*}\n"
      ],
      "text/markdown": [
       "0%\n",
       ":   0.0125%\n",
       ":   0.0650%\n",
       ":   0.1775%\n",
       ":   0.47100%\n",
       ":   82.74\n",
       "\n"
      ],
      "text/plain": [
       "   0%   25%   50%   75%  100% \n",
       " 0.01  0.06  0.17  0.47 82.74 "
      ]
     },
     "metadata": {},
     "output_type": "display_data"
    },
    {
     "name": "stdout",
     "output_type": "stream",
     "text": [
      "[1] \"IQR*1.5 = 0.615\"\n",
      "[1] \"max = 1.075\"\n",
      "[1] \"min = -0.565\"\n"
     ]
    }
   ],
   "source": [
    "# Calculate median, quantile list and inter-quantile range\n",
    "median <- median(lst)\n",
    "qs <-quantile (lst)\n",
    "IQR <- IQR(lst)\n",
    "print(paste0(\"Inter Quartile Range Global Sales \", IQR, \" million units\"))\n",
    "print(\"Quantile Global Sales \")\n",
    "qs\n",
    "# To get min and max, calculate 1.5 x IQR.  \n",
    "\n",
    "calc <- IQR * 1.5\n",
    "\n",
    "print(paste0(\"IQR*1.5 = \",calc))\n",
    "# The max value is the highest value inside the 3rd quartile, plus 1.5 x IQR.  \n",
    "\n",
    "maxinq2 <- max(lst[lst<qs[4]])\n",
    "max <- maxinq2+calc\n",
    "print(paste0(\"max = \", max))\n",
    "\n",
    "# The min value is the highest value inside the 1st quartile, minus 1.5 x IQR.  \n",
    "maxinq1 <- max(lst[lst<qs[2]])\n",
    "min <- maxinq1 - calc\n",
    "\n",
    "print(paste0(\"min = \", min))"
   ]
  },
  {
   "cell_type": "code",
   "execution_count": 14,
   "metadata": {},
   "outputs": [
    {
     "data": {
      "image/png": "[encoded data removed]",
      "text/plain": [
       "plot without title"
      ]
     },
     "metadata": {
      "image/png": {
       "height": 420,
       "width": 420
      }
     },
     "output_type": "display_data"
    }
   ],
   "source": [
    "# Load the ggplot2 library\n",
    "library(ggplot2)\n",
    "\n",
    "# Assuming 'df' is your dataframe\n",
    "# Replace 'df' with the actual name of your dataframe if it's different\n",
    "\n",
    "# Sort the dataframe by 'Global_Sales' in descending order and select the top 10 rows\n",
    "top_10_df <- head(df[order(-df$Global_Sales), ], 10)\n",
    "\n",
    "# Create the histogram\n",
    "ggplot(top_10_df, aes(x = Global_Sales)) +\n",
    "  geom_histogram(binwidth = 1, fill = \"skyblue\", color = \"black\") +\n",
    "  labs(title = \"Top 10 Best Selling Games - Global Sales Histogram\", x = \"Global Sales\", y = \"Frequency\")\n"
   ]
  },
  {
   "cell_type": "code",
   "execution_count": 17,
   "metadata": {},
   "outputs": [
    {
     "data": {
      "image/png": "[encoded data removed]",
      "text/plain": [
       "plot without title"
      ]
     },
     "metadata": {
      "image/png": {
       "height": 420,
       "width": 420
      }
     },
     "output_type": "display_data"
    }
   ],
   "source": [
    "# Load the ggplot2 library\n",
    "library(ggplot2)\n",
    "\n",
    "# Assuming 'df' is your dataframe\n",
    "# Replace 'df' with the actual name of your dataframe if it's different\n",
    "\n",
    "# Sort the dataframe by 'Global_Sales' in descending order and select the top 10 rows\n",
    "top_10_df <- head(df[order(-df$Global_Sales), ], 10)\n",
    "\n",
    "# Create the box plot\n",
    "ggplot(top_10_df, aes(x = \"\", y = Global_Sales)) +\n",
    "  geom_boxplot(fill = \"skyblue\", color = \"black\") +\n",
    "  labs(title = \"Top 10 Best Selling Games - Global Sales Boxplot\", x = \"\", y = \"Global Sales\")\n"
   ]
  },
  {
   "cell_type": "code",
   "execution_count": 18,
   "metadata": {},
   "outputs": [
    {
     "data": {
      "image/png": "[encoded data removed]",
      "text/plain": [
       "plot without title"
      ]
     },
     "metadata": {
      "image/png": {
       "height": 420,
       "width": 420
      }
     },
     "output_type": "display_data"
    }
   ],
   "source": [
    "# Load the ggplot2 library\n",
    "library(ggplot2)\n",
    "\n",
    "# Assuming 'df' is your dataframe\n",
    "# Replace 'df' with the actual name of your dataframe if it's different\n",
    "\n",
    "# Get the top 7 genres\n",
    "top_7_genres <- head(names(sort(table(df$Genre), decreasing = TRUE)), 7)\n",
    "\n",
    "# Filter the dataframe to include only the top 7 genres\n",
    "df_top_7_genres <- df[df$Genre %in% top_7_genres, ]\n",
    "\n",
    "# Aggregate global sales by genre\n",
    "genre_sales <- aggregate(Global_Sales ~ Genre, data = df_top_7_genres, sum)\n",
    "\n",
    "# Create the bar chart\n",
    "ggplot(genre_sales, aes(x = Genre, y = Global_Sales, fill = Genre)) +\n",
    "  geom_bar(stat = \"identity\") +\n",
    "  labs(title = \"Global Sales by Genre (Top 7 Genres)\", x = \"Genre\", y = \"Global Sales\") +\n",
    "  theme(axis.text.x = element_text(angle = 45, hjust = 1))\n"
   ]
  },
  {
   "cell_type": "code",
   "execution_count": 29,
   "metadata": {},
   "outputs": [
    {
     "name": "stderr",
     "output_type": "stream",
     "text": [
      "Warning message in eval(expr, envir, enclos):\n",
      "\"NAs introduced by coercion\"\n"
     ]
    },
    {
     "data": {
      "image/png": "[encoded data removed]",
      "text/plain": [
       "plot without title"
      ]
     },
     "metadata": {
      "image/png": {
       "height": 420,
       "width": 420
      }
     },
     "output_type": "display_data"
    }
   ],
   "source": [
    "# Load the ggplot2 library\n",
    "library(ggplot2)\n",
    "\n",
    "# Assuming 'df' is your dataframe\n",
    "# Replace 'df' with the actual name of your dataframe if it's different\n",
    "\n",
    "# Convert 'Year' to integer type\n",
    "df$Year <- as.integer(df$Year)\n",
    "\n",
    "# Aggregate global sales by year\n",
    "yearly_sales <- aggregate(Global_Sales ~ Year, data = df, sum)\n",
    "\n",
    "# Create the bar chart\n",
    "ggplot(yearly_sales, aes(x = Year, y = Global_Sales)) +\n",
    "  geom_bar(stat = \"identity\", fill = \"skyblue\", color = \"black\") +\n",
    "  labs(title = \"Global Sales by Year\", x = \"Year\", y = \"Global Sales\") +\n",
    "  theme(axis.text.x = element_text(angle = 45, hjust = 1)) +\n",
    "  scale_x_continuous(breaks = seq(min(yearly_sales$Year), max(yearly_sales$Year), by = 5), labels = as.character)\n"
   ]
  },
  {
   "cell_type": "code",
   "execution_count": 44,
   "metadata": {},
   "outputs": [
    {
     "name": "stderr",
     "output_type": "stream",
     "text": [
      "Warning message:\n",
      "\"\u001b[1m\u001b[22mRemoved 271 rows containing non-finite values (`stat_density()`).\"\n"
     ]
    },
    {
     "data": {
      "image/png": "[encoded data removed]",
      "text/plain": [
       "plot without title"
      ]
     },
     "metadata": {
      "image/png": {
       "height": 420,
       "width": 420
      }
     },
     "output_type": "display_data"
    }
   ],
   "source": [
    "# Load the ggplot2 and cowplot libraries\n",
    "library(ggplot2)\n",
    "library(cowplot)\n",
    "\n",
    "# Assuming 'df' is your dataframe\n",
    "# Replace 'df' with the actual name of your dataframe if it's different\n",
    "\n",
    "# Convert 'Year' to integer type\n",
    "df$Year <- as.integer(df$Year)\n",
    "\n",
    "# Aggregate global sales by year\n",
    "yearly_sales <- aggregate(Global_Sales ~ Year, data = df, sum)\n",
    "\n",
    "\n",
    "# Create the distribution plot (density plot)\n",
    "density_plot <- ggplot(df, aes(x = Year)) +\n",
    "  geom_density( alpha = 1.0) +\n",
    "  labs(title = \"Distribution of Global Sales\", x = \"Year\", y = \"Density\")\n",
    "\n",
    "density_plot\n"
   ]
  },
  {
   "cell_type": "code",
   "execution_count": 49,
   "metadata": {},
   "outputs": [
    {
     "data": {
      "image/png": "[encoded data removed]",
      "text/plain": [
       "plot without title"
      ]
     },
     "metadata": {
      "image/png": {
       "height": 420,
       "width": 420
      }
     },
     "output_type": "display_data"
    }
   ],
   "source": [
    "# Load the ggplot2 library\n",
    "library(ggplot2)\n",
    "\n",
    "# Assuming 'df' is your dataframe\n",
    "# Replace 'df' with the actual name of your dataframe if it's different\n",
    "\n",
    "# Convert 'Year' to integer type\n",
    "df$Year <- as.integer(df$Year)\n",
    "\n",
    "# Aggregate global sales by year\n",
    "yearly_sales <- aggregate(NA_Sales ~ Year, data = df, sum)\n",
    "\n",
    "# Create the bar chart\n",
    "ggplot(yearly_sales, aes(x = Year, y = NA_Sales)) +\n",
    "  geom_bar(stat = \"identity\", fill = \"skyblue\", color = \"black\") +\n",
    "  labs(title = \"NA Sales by Year\", x = \"Year\", y = \"Global Sales\") +\n",
    "  theme(axis.text.x = element_text(angle = 45, hjust = 1)) +\n",
    "  scale_x_continuous(breaks = seq(min(yearly_sales$Year), max(yearly_sales$Year), by = 5), labels = as.character)\n",
    "\n",
    "\n"
   ]
  },
  {
   "cell_type": "code",
   "execution_count": 50,
   "metadata": {},
   "outputs": [
    {
     "name": "stderr",
     "output_type": "stream",
     "text": [
      "Warning message:\n",
      "\"\u001b[1m\u001b[22mRemoved 271 rows containing non-finite values (`stat_density()`).\"\n"
     ]
    },
    {
     "data": {
      "image/png": "[encoded data removed]",
      "text/plain": [
       "plot without title"
      ]
     },
     "metadata": {
      "image/png": {
       "height": 420,
       "width": 420
      }
     },
     "output_type": "display_data"
    }
   ],
   "source": [
    "# Load the ggplot2 and cowplot libraries\n",
    "library(ggplot2)\n",
    "library(cowplot)\n",
    "\n",
    "# Assuming 'df' is your dataframe\n",
    "# Replace 'df' with the actual name of your dataframe if it's different\n",
    "\n",
    "# Convert 'Year' to integer type\n",
    "df$Year <- as.integer(df$Year)\n",
    "\n",
    "# Aggregate global sales by year\n",
    "yearly_sales <- aggregate(NA_Sales ~ Year, data = df, sum)\n",
    "\n",
    "\n",
    "# Create the distribution plot (density plot)\n",
    "density_plot <- ggplot(df, aes(x = Year)) +\n",
    "  geom_density( alpha = 1.0) +\n",
    "  labs(title = \"Distribution of Global Sales\", x = \"Year\", y = \"Density\")\n",
    "\n",
    "density_plot\n"
   ]
  },
  {
   "cell_type": "markdown",
   "metadata": {},
   "source": [
    "##  PART THREE\n",
    "  - Evaluate your charts using Gestalt and Accent.\n",
    "\n",
    "## Gestalt:\n",
    "\n",
    " - Proximity\n",
    " - Similarity\n",
    " - Enclosure\n",
    " - Figure Ground\n",
    " - Closure\n",
    " - Continuity\n",
    " - Connection\n",
    " - Focal point\n",
    "\n",
    "## ACCENT\n",
    "\n",
    " - Apprehension\n",
    " - Clarity\n",
    " - Consistency\n",
    " - Efficiency\n",
    " - Necessity\n",
    " - Truthfulness\n",
    "\n"
   ]
  },
  {
   "cell_type": "code",
   "execution_count": null,
   "metadata": {},
   "outputs": [],
   "source": []
  }
 ],
 "metadata": {
  "kernelspec": {
   "display_name": "R",
   "language": "R",
   "name": "ir"
  },
  "language_info": {
   "codemirror_mode": "r",
   "file_extension": ".r",
   "mimetype": "text/x-r-source",
   "name": "R",
   "pygments_lexer": "r",
   "version": "4.3.2"
  }
 },
 "nbformat": 4,
 "nbformat_minor": 4
}
