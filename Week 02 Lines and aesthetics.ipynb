{
 "cells": [
  {
   "cell_type": "markdown",
   "id": "249c3239",
   "metadata": {},
   "source": [
    "# Lines and aesthetics"
   ]
  },
  {
   "cell_type": "markdown",
   "id": "9d01a971",
   "metadata": {},
   "source": [
    "### New code\n",
    " - set a directory name for data\n",
    " - read data from a file\n",
    " - Manipulate data\n",
    " - Draw a single line chart\n",
    " - Draw a chart with multiple lines\n",
    " - Make your chart beautiful\n",
    "     - Add labels (title, subtitle, x and y axes titles, rename legend)\n",
    "     - Set a theme (add a pre-published one and enhance using theme())\n",
    "     - Emphasise your data (where do you want to draw attention?)\n",
    "     - Change colours to the ones most suitable to your data\n",
    "     - Change text size and axis sequence\n",
    "\n",
    " "
   ]
  },
  {
   "cell_type": "code",
   "execution_count": 2,
   "id": "6a2db5ea",
   "metadata": {},
   "outputs": [
    {
     "name": "stderr",
     "output_type": "stream",
     "text": [
      "── \u001b[1mAttaching core tidyverse packages\u001b[22m ──────────────────────────────────────────────────────────────── tidyverse 2.0.0 ──\n",
      "\u001b[32m✔\u001b[39m \u001b[34mdplyr    \u001b[39m 1.1.4     \u001b[32m✔\u001b[39m \u001b[34mreadr    \u001b[39m 2.1.5\n",
      "\u001b[32m✔\u001b[39m \u001b[34mforcats  \u001b[39m 1.0.0     \u001b[32m✔\u001b[39m \u001b[34mstringr  \u001b[39m 1.5.1\n",
      "\u001b[32m✔\u001b[39m \u001b[34mggplot2  \u001b[39m 3.4.4     \u001b[32m✔\u001b[39m \u001b[34mtibble   \u001b[39m 3.2.1\n",
      "\u001b[32m✔\u001b[39m \u001b[34mlubridate\u001b[39m 1.9.3     \u001b[32m✔\u001b[39m \u001b[34mtidyr    \u001b[39m 1.3.1\n",
      "\u001b[32m✔\u001b[39m \u001b[34mpurrr    \u001b[39m 1.0.2     \n",
      "── \u001b[1mConflicts\u001b[22m ────────────────────────────────────────────────────────────────────────────────── tidyverse_conflicts() ──\n",
      "\u001b[31m✖\u001b[39m \u001b[34mdplyr\u001b[39m::\u001b[32mfilter()\u001b[39m masks \u001b[34mstats\u001b[39m::filter()\n",
      "\u001b[31m✖\u001b[39m \u001b[34mdplyr\u001b[39m::\u001b[32mlag()\u001b[39m    masks \u001b[34mstats\u001b[39m::lag()\n",
      "\u001b[36mℹ\u001b[39m Use the conflicted package (\u001b[3m\u001b[34m<http://conflicted.r-lib.org/>\u001b[39m\u001b[23m) to force all conflicts to become errors\n"
     ]
    }
   ],
   "source": [
    "\n",
    "#install.packages(\"ggforce\")\n",
    "library(tidyverse)\n"
   ]
  },
  {
   "cell_type": "markdown",
   "id": "48bca414",
   "metadata": {},
   "source": [
    "### Set a directory name for data"
   ]
  },
  {
   "cell_type": "code",
   "execution_count": 3,
   "id": "63f5a7be",
   "metadata": {},
   "outputs": [],
   "source": [
    "mydata = file.path(\"C:\",\"Users\",\"025312\",\"Dropbox\",\"City\",\"pobyrne\",\"Contents\",\"Datasets\")\n",
    "datapath = file.path(mydata,\"data.csv\")"
   ]
  },
  {
   "cell_type": "markdown",
   "id": "0fb435d6",
   "metadata": {},
   "source": [
    "### Read data from a csv file"
   ]
  },
  {
   "cell_type": "code",
   "execution_count": 4,
   "id": "faa243b0",
   "metadata": {},
   "outputs": [
    {
     "name": "stderr",
     "output_type": "stream",
     "text": [
      "Warning message in file(file, \"rt\"):\n",
      "\"cannot open file 'C:/Users/025312/Dropbox/City/pobyrne/Contents/Datasets/data.csv': No such file or directory\"\n"
     ]
    },
    {
     "ename": "ERROR",
     "evalue": "Error in file(file, \"rt\"): cannot open the connection\n",
     "output_type": "error",
     "traceback": [
      "Error in file(file, \"rt\"): cannot open the connection\nTraceback:\n",
      "1. read.csv(datapath)",
      "2. read.table(file = file, header = header, sep = sep, quote = quote, \n .     dec = dec, fill = fill, comment.char = comment.char, ...)",
      "3. file(file, \"rt\")"
     ]
    }
   ],
   "source": [
    "df <- read.csv(datapath)\n",
    "df"
   ]
  },
  {
   "cell_type": "markdown",
   "id": "72a08920",
   "metadata": {},
   "source": [
    "This data lists the numbers from 1 to 10, their square and their cube.  First, I will plot the linear data using a line chart"
   ]
  },
  {
   "cell_type": "markdown",
   "id": "82fa1c10",
   "metadata": {},
   "source": [
    "### line chart"
   ]
  },
  {
   "cell_type": "code",
   "execution_count": null,
   "id": "9d084e55",
   "metadata": {},
   "outputs": [],
   "source": [
    "ggplot(df, aes(x=x, y=linear)) + geom_line()"
   ]
  },
  {
   "cell_type": "markdown",
   "id": "fb869dfc",
   "metadata": {},
   "source": [
    "### Manipulate the data"
   ]
  },
  {
   "cell_type": "markdown",
   "id": "e62d03c5",
   "metadata": {},
   "source": [
    "I'd like to plot all three functions on the same chart.  I need to reshape my data so that there are three variables - the number, the function (linear, exponential or cubic) and the value.  I can use 'pivot_longer' for this."
   ]
  },
  {
   "cell_type": "code",
   "execution_count": null,
   "id": "aa5508b4",
   "metadata": {},
   "outputs": [],
   "source": [
    "pdf <- df %>% \n",
    "  pivot_longer(\n",
    "    cols = !x, \n",
    "    names_to = \"funct\", \n",
    "    values_to = \"value\")\n",
    "pdf"
   ]
  },
  {
   "cell_type": "code",
   "execution_count": null,
   "id": "44805690",
   "metadata": {},
   "outputs": [],
   "source": [
    "ggplot (pdf, aes(x=x, y=value)) + geom_line()"
   ]
  },
  {
   "cell_type": "markdown",
   "id": "f1c9ca5a",
   "metadata": {},
   "source": [
    "Okay, that's not what I want.  I need to distinguish between the different functions."
   ]
  },
  {
   "cell_type": "markdown",
   "id": "5ce05c64",
   "metadata": {},
   "source": [
    "### Draw a chart with multiple lines"
   ]
  },
  {
   "cell_type": "code",
   "execution_count": null,
   "id": "5dff1a66",
   "metadata": {},
   "outputs": [],
   "source": [
    "ggplot(pdf, aes(x=x, y=value, fill=funct)) +geom_line()"
   ]
  },
  {
   "cell_type": "code",
   "execution_count": null,
   "id": "24a0fd19",
   "metadata": {},
   "outputs": [],
   "source": [
    "ggplot(pdf, aes(x=x, y=value, color=funct)) +geom_line()"
   ]
  },
  {
   "cell_type": "markdown",
   "id": "80f98a58",
   "metadata": {},
   "source": [
    "Switch from 'fill' to 'color'"
   ]
  },
  {
   "cell_type": "markdown",
   "id": "86e30e0a",
   "metadata": {},
   "source": [
    " Better, but not very nice."
   ]
  },
  {
   "cell_type": "markdown",
   "id": "39dd312d",
   "metadata": {},
   "source": [
    "## Make your chart beautiful\n"
   ]
  },
  {
   "cell_type": "markdown",
   "id": "831c09cf",
   "metadata": {},
   "source": [
    "### Add labels (title, subtitle, x and y axes titles, rename legend)\n"
   ]
  },
  {
   "cell_type": "code",
   "execution_count": null,
   "id": "76527a6b",
   "metadata": {},
   "outputs": [],
   "source": [
    "ggplot(pdf, aes(x=x, y=value, color=funct)) +geom_line() +\n",
    "labs( \n",
    "    title=\"Integers as line, exponent and cube\",\n",
    "    subtitle=\"There's such a difference!\",\n",
    "    x=\"Base value\", \n",
    "    y=\"Powered value\",\n",
    "    color=\"Function\"\n",
    ") "
   ]
  },
  {
   "cell_type": "markdown",
   "id": "071f43c6",
   "metadata": {},
   "source": [
    "#### Set a theme (add a pre-published one and enhance using theme())\n",
    "\n",
    "Extra themes are available from the package ggthemes.  Be careful with themes, sometimes they take away parts of the graph that you need!"
   ]
  },
  {
   "cell_type": "code",
   "execution_count": null,
   "id": "ea3fd52a",
   "metadata": {},
   "outputs": [],
   "source": [
    "library(ggthemes)\n",
    "ggplot(pdf, aes(x=x, y=value, color=funct)) +geom_line() +\n",
    "labs( \n",
    "    title=\"Integers as line, exponent and cube\",\n",
    "    subtitle=\"There's such a difference!\",\n",
    "    x=\"Base value\", \n",
    "    y=\"Powered value\",\n",
    "    color=\"Function\"\n",
    ") + theme_fivethirtyeight()"
   ]
  },
  {
   "cell_type": "markdown",
   "id": "c96a331e",
   "metadata": {},
   "source": [
    "Oh, it looks better, but the axis titles are gone.  Use the theme() function to put them back."
   ]
  },
  {
   "cell_type": "code",
   "execution_count": null,
   "id": "54a1b942",
   "metadata": {},
   "outputs": [],
   "source": [
    "ggplot(pdf, aes(x=x, y=value, color=funct)) +geom_line() +\n",
    "labs( \n",
    "    title=\"Integers as line, exponent and cube\",\n",
    "    subtitle=\"There's such a difference!\",\n",
    "    x=\"Base value\", \n",
    "    y=\"Powered value\",\n",
    "    color=\"Function\"\n",
    ") + theme_fivethirtyeight() +\n",
    "theme(\n",
    "axis.title = element_text())"
   ]
  },
  {
   "cell_type": "markdown",
   "id": "de557931",
   "metadata": {},
   "source": [
    "#### Emphasise your data \n",
    "Where do you want to draw attention?  The lines are all very thin.  Let's make them all thicker and change the type of line:\n"
   ]
  },
  {
   "cell_type": "code",
   "execution_count": null,
   "id": "1d045933",
   "metadata": {},
   "outputs": [],
   "source": [
    "ggplot(pdf, aes(x=x, y=value, color=funct)) +geom_line(linewidth=1.5, linetype=\"dashed\") +\n",
    "labs( \n",
    "    title=\"Integers as line, exponent and cube\",\n",
    "    subtitle=\"There's such a difference!\",\n",
    "    x=\"Base value\", \n",
    "    y=\"Powered value\",\n",
    "    color=\"Function\"\n",
    ") + theme_fivethirtyeight() +\n",
    "theme(\n",
    "axis.title = element_text())"
   ]
  },
  {
   "cell_type": "markdown",
   "id": "2054fc30",
   "metadata": {},
   "source": [
    "To highlight a single line, add a new column to the data and use that  to determine the line attributes."
   ]
  },
  {
   "cell_type": "code",
   "execution_count": null,
   "id": "c4e96959",
   "metadata": {},
   "outputs": [],
   "source": [
    "pdf<-pdf %>% mutate(isCubic=(funct==\"cubic\"))\n",
    "pdf"
   ]
  },
  {
   "cell_type": "code",
   "execution_count": null,
   "id": "56b302e2",
   "metadata": {},
   "outputs": [],
   "source": [
    "pdf"
   ]
  },
  {
   "cell_type": "code",
   "execution_count": null,
   "id": "2ebef9e4",
   "metadata": {},
   "outputs": [],
   "source": [
    "ggplot(pdf, aes(x=x, y=value, color=funct)) +geom_line( aes(linetype = isCubic), linewidth=1.5, alpha = 0.8) +\n",
    "labs( \n",
    "    title=\"Integers as line, exponent and cube\",\n",
    "    subtitle=\"There's such a difference!\",\n",
    "    x=\"Base value\", \n",
    "    y=\"Powered value\",\n",
    "    color=\"Function\"\n",
    ") + theme_fivethirtyeight() +\n",
    "theme(\n",
    "axis.title = element_text())"
   ]
  },
  {
   "cell_type": "markdown",
   "id": "30d5427f",
   "metadata": {},
   "source": [
    "Oh, we don't want that legend! Also, it would be better if the highlighted line was solid, and the others were dashed."
   ]
  },
  {
   "cell_type": "code",
   "execution_count": null,
   "id": "feb42dd5",
   "metadata": {},
   "outputs": [],
   "source": [
    "ggplot(pdf, aes(x=x, y=value, color=funct)) +geom_line( aes(linetype = isCubic), linewidth=1.5, alpha = 0.8) +\n",
    "labs( \n",
    "    title=\"Integers as line, exponent and cube\",\n",
    "    subtitle=\"There's such a difference!\",\n",
    "    x=\"Base value\", \n",
    "    y=\"Powered value\",\n",
    "    color=\"Function\"\n",
    ") + theme_fivethirtyeight() +\n",
    "theme(\n",
    "axis.title = element_text()) +\n",
    "scale_linetype_manual(values = c(\"dashed\",\"solid\"), guide=\"none\")"
   ]
  },
  {
   "cell_type": "markdown",
   "id": "e98fda61",
   "metadata": {},
   "source": [
    "If you're finding the Function legend difficult to read, change the size of the text"
   ]
  },
  {
   "cell_type": "code",
   "execution_count": null,
   "id": "4c7c6d9f",
   "metadata": {},
   "outputs": [],
   "source": [
    "ggplot(pdf, aes(x=x, y=value, color=funct)) +geom_line( aes(linetype = isCubic), linewidth=1.5, alpha = 0.8) +\n",
    "labs( \n",
    "    title=\"Integers as line, exponent and cube\",\n",
    "    subtitle=\"There's such a difference!\",\n",
    "    x=\"Base value\", \n",
    "    y=\"Powered value\",\n",
    "    color=\"Function\"\n",
    ") + theme_fivethirtyeight() +\n",
    "theme(\n",
    "axis.title = element_text(),\n",
    "legend.title = element_text(color = \"blue\", size = 14),\n",
    "legend.text  = element_text(color = \"black\", size = 12),) +\n",
    "scale_linetype_manual(values = c(\"dashed\",\"solid\"), guide=\"none\")  "
   ]
  },
  {
   "cell_type": "markdown",
   "id": "d6e3cbb7",
   "metadata": {},
   "source": [
    "Change the numbers on the x-axis to integer"
   ]
  },
  {
   "cell_type": "code",
   "execution_count": null,
   "id": "32a8e643",
   "metadata": {},
   "outputs": [],
   "source": [
    "ggplot(pdf, aes(x=x, y=value, color=funct)) +geom_line( aes(linetype = isCubic), linewidth=1.5, alpha = 0.8) +\n",
    "labs( \n",
    "    title=\"Integers as line, exponent and cube\",\n",
    "    subtitle=\"There's such a difference!\",\n",
    "    x=\"Base value\", \n",
    "    y=\"Powered value\",\n",
    "    color=\"Function\"\n",
    ") + theme_fivethirtyeight() +\n",
    "theme(\n",
    "axis.title = element_text(),\n",
    "legend.title = element_text(color = \"blue\", size = 14),\n",
    "legend.text  = element_text(color = \"black\", size = 12),) +\n",
    "scale_linetype_manual(values = c(\"dashed\",\"solid\"), guide=\"none\")  + \n",
    "scale_x_continuous(breaks=seq(0,10,2))"
   ]
  },
  {
   "cell_type": "markdown",
   "id": "18e05992",
   "metadata": {},
   "source": [
    "#### Change colours to the ones most suitable to your data"
   ]
  },
  {
   "cell_type": "markdown",
   "id": "f95dfdc1",
   "metadata": {},
   "source": [
    "#### The palette with grey:\n",
    "cbPalette <- c(\"#999999\", \"#E69F00\", \"#56B4E9\", \"#009E73\", \"#F0E442\", \"#0072B2\", \"#D55E00\", \"#CC79A7\")\n",
    "\n",
    "##### The palette with black:\n",
    "cbbPalette <- c(\"#000000\", \"#E69F00\", \"#56B4E9\", \"#009E73\", \"#F0E442\", \"#0072B2\", \"#D55E00\", \"#CC79A7\")\n",
    "\n",
    "##### To use for fills, add\n",
    "  scale_fill_manual(values=cbPalette)\n",
    "\n",
    "##### To use for line and point colors, add\n",
    "  scale_colour_manual(values=cbPalette)"
   ]
  },
  {
   "cell_type": "code",
   "execution_count": null,
   "id": "61ce6c54",
   "metadata": {},
   "outputs": [],
   "source": [
    "# The palette with black:\n",
    "cbPalette <- c(\"#000000\", \"#E69F00\", \"#56B4E9\", \"#009E73\", \"#F0E442\", \"#0072B2\", \"#D55E00\", \"#CC79A7\")\n",
    "ggplot(pdf, aes(x=x, y=value, color=funct)) +geom_line( aes(linetype = isCubic), linewidth=1.5, alpha = 0.8) +\n",
    "labs( \n",
    "    title=\"Integers as line, exponent and cube\",\n",
    "    subtitle=\"There's such a difference!\",\n",
    "    x=\"Base value\", \n",
    "    y=\"Powered value\",\n",
    "    color=\"Function\"\n",
    ") + theme_fivethirtyeight() +\n",
    "theme(\n",
    "axis.title = element_text(),\n",
    "legend.title = element_text(color = \"blue\", size = 14),\n",
    "legend.text  = element_text(color = \"black\", size = 12),) +\n",
    "scale_linetype_manual(values = c(\"dashed\",\"solid\"), guide=\"none\")  + \n",
    "scale_x_continuous(breaks=seq(0,10,2)) + \n",
    "  scale_colour_manual(values=cbPalette)"
   ]
  },
  {
   "cell_type": "markdown",
   "id": "57c42976",
   "metadata": {},
   "source": [
    "#### Using layers"
   ]
  },
  {
   "cell_type": "code",
   "execution_count": null,
   "id": "e8b4f183",
   "metadata": {},
   "outputs": [],
   "source": [
    "p <- ggplot(pdf, aes(x=x, y=value, color=funct)) +geom_line( aes(linetype = isCubic), linewidth=1.5, alpha = 0.8) +\n",
    "labs( \n",
    "    title=\"Integers as line, exponent and cube\",\n",
    "    subtitle=\"There's such a difference!\",\n",
    "    x=\"Base value\", \n",
    "    y=\"Powered value\",\n",
    "    color=\"Function\"\n",
    ")"
   ]
  },
  {
   "cell_type": "code",
   "execution_count": null,
   "id": "8a5773d6",
   "metadata": {},
   "outputs": [],
   "source": [
    "p + \n",
    "theme_fivethirtyeight() +\n",
    "theme(\n",
    "axis.title = element_text(),\n",
    "legend.title = element_text(color = \"blue\", size = 14),\n",
    "legend.text  = element_text(color = \"black\", size = 12),) +\n",
    "scale_linetype_manual(values = c(\"dashed\",\"solid\"), guide=\"none\")  + \n",
    "scale_x_continuous(breaks=seq(0,10,2)) + \n",
    "  scale_colour_manual(values=cbPalette) +\n",
    "annotate(\"label\", x=3, y=500, label = \"I love power!\", size=8) \n"
   ]
  },
  {
   "cell_type": "code",
   "execution_count": null,
   "id": "8a41dd13",
   "metadata": {},
   "outputs": [],
   "source": [
    "# The palette with black:\n",
    "cbPalette <- c(\"#000000\", \"#E69F00\", \"#56B4E9\", \"#009E73\", \"#F0E442\", \"#0072B2\", \"#D55E00\", \"#CC79A7\")\n",
    "ggplot(pdf, aes(x=x, y=value, color=funct)) +geom_line( aes(linetype = isCubic), linewidth=1.5, alpha = 0.8) +\n",
    "labs( \n",
    "    title=\"Integers as line, exponent and cube\",\n",
    "    subtitle=\"There's such a difference!\",\n",
    "    x=\"Base value\", \n",
    "    y=\"Powered value\",\n",
    "    color=\"Function\"\n",
    ") + theme_fivethirtyeight() +\n",
    "theme(\n",
    "axis.title = element_text(),\n",
    "legend.title = element_text(color = \"blue\", size = 14),\n",
    "legend.text  = element_text(color = \"black\", size = 12),) +\n",
    "scale_linetype_manual(values = c(\"dashed\",\"solid\"), guide=\"none\")  + \n",
    "scale_x_continuous(breaks=seq(0,10,2)) + \n",
    "  scale_colour_manual(values=cbPalette)"
   ]
  },
  {
   "cell_type": "code",
   "execution_count": null,
   "id": "29a63978",
   "metadata": {},
   "outputs": [],
   "source": [
    "data(package=\"dplyr\")"
   ]
  },
  {
   "cell_type": "code",
   "execution_count": null,
   "id": "c9d5a610",
   "metadata": {},
   "outputs": [],
   "source": []
  }
 ],
 "metadata": {
  "kernelspec": {
   "display_name": "R",
   "language": "R",
   "name": "ir"
  },
  "language_info": {
   "codemirror_mode": "r",
   "file_extension": ".r",
   "mimetype": "text/x-r-source",
   "name": "R",
   "pygments_lexer": "r",
   "version": "4.3.2"
  }
 },
 "nbformat": 4,
 "nbformat_minor": 5
}
