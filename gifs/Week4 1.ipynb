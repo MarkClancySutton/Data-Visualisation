{
 "cells": [
  {
   "cell_type": "markdown",
   "metadata": {},
   "source": [
    "# Visualising time trends using animation and interactive streams"
   ]
  },
  {
   "cell_type": "markdown",
   "metadata": {},
   "source": [
    "# This week's exercise tests your abilities in the following:\n",
    "\n",
    " - Preparing your data for animation\n",
    " - Animating your charts, encoding one of the dimensions as an animpation.\n",
    " - Making the chart more attractive and memorable.\n",
    "\n",
    " - Using stream charts interactively"
   ]
  },
  {
   "cell_type": "markdown",
   "metadata": {},
   "source": [
    "# 1. Prepare\n",
    "\n",
    " - Load the libraries (you will need tidyverse, probably zoo, gganimate and gifski.\n",
    " - set the base theme to theme_bw()\n",
    " - Make sure you have a folder allocated for your GIFs."
   ]
  },
  {
   "cell_type": "code",
   "execution_count": 1,
   "metadata": {},
   "outputs": [
    {
     "name": "stderr",
     "output_type": "stream",
     "text": [
      "No renderer backend detected. gganimate will default to writing frames to separate files\n",
      "Consider installing:\n",
      "- the `gifski` package for gif output\n",
      "- the `av` package for video output\n",
      "and restarting the R session\n",
      "\n"
     ]
    }
   ],
   "source": [
    "shhh <- suppressPackageStartupMessages # It's a library, so shhh!warnings\n",
    "shhh(library(tidyverse))\n",
    "library(gganimate)\n",
    "theme_set(theme_bw())"
   ]
  },
  {
   "cell_type": "markdown",
   "metadata": {},
   "source": [
    "## 2. Source your data\n",
    "\n",
    "The Irish Weather monitoring service, Met Eireann, publishes data that has been collected at weather stations over the years.  The data recorded can be hourly, daily or monthly.  Let's focus on monthly data this time around.\n",
    "\n",
    " - Go to https://data.gov.ie/organization/meteireann.  In the search box, look for monthly data.  Pick a weather station, first checking that there is valid data there.  \n",
    " - Read the data into a dataframe.\n",
    " - Remember that some of the datasets start with comments (see sample code, week 3).\n",
    " - Make sure that the dataset you choose has month and year values (or dates, that you can convert to month and year) and that every row has a value for month and year."
   ]
  },
  {
   "cell_type": "code",
   "execution_count": 2,
   "metadata": {
    "scrolled": true
   },
   "outputs": [
    {
     "data": {
      "text/html": [
       "<table class=\"dataframe\">\n",
       "<caption>A data.frame: 6 × 12</caption>\n",
       "<thead>\n",
       "\t<tr><th></th><th scope=col>year</th><th scope=col>month</th><th scope=col>meant</th><th scope=col>maxtp</th><th scope=col>mintp</th><th scope=col>mnmax</th><th scope=col>mnmin</th><th scope=col>rain</th><th scope=col>gmin</th><th scope=col>wdsp</th><th scope=col>maxgt</th><th scope=col>sun</th></tr>\n",
       "\t<tr><th></th><th scope=col>&lt;int&gt;</th><th scope=col>&lt;int&gt;</th><th scope=col>&lt;dbl&gt;</th><th scope=col>&lt;dbl&gt;</th><th scope=col>&lt;dbl&gt;</th><th scope=col>&lt;dbl&gt;</th><th scope=col>&lt;dbl&gt;</th><th scope=col>&lt;dbl&gt;</th><th scope=col>&lt;dbl&gt;</th><th scope=col>&lt;dbl&gt;</th><th scope=col>&lt;int&gt;</th><th scope=col>&lt;lgl&gt;</th></tr>\n",
       "</thead>\n",
       "<tbody>\n",
       "\t<tr><th scope=row>1</th><td>2004</td><td> 8</td><td>15.8</td><td>21.4</td><td>8.7</td><td>18.5</td><td>13.1</td><td>138.2</td><td> 4.6</td><td>10.7</td><td>36</td><td>NA</td></tr>\n",
       "\t<tr><th scope=row>2</th><td>2004</td><td> 9</td><td>14.7</td><td>23.2</td><td>7.2</td><td>17.7</td><td>11.7</td><td> 93.7</td><td> 3.5</td><td>12.7</td><td>48</td><td>NA</td></tr>\n",
       "\t<tr><th scope=row>3</th><td>2004</td><td>10</td><td>10.5</td><td>16.3</td><td>3.5</td><td>13.6</td><td> 7.5</td><td>143.7</td><td>-1.1</td><td>13.7</td><td>50</td><td>NA</td></tr>\n",
       "\t<tr><th scope=row>4</th><td>2004</td><td>11</td><td> 9.7</td><td>14.6</td><td>2.5</td><td>11.9</td><td> 7.5</td><td> 24.9</td><td>-3.7</td><td>10.9</td><td>41</td><td>NA</td></tr>\n",
       "\t<tr><th scope=row>5</th><td>2004</td><td>12</td><td> 8.5</td><td>14.2</td><td>0.6</td><td>10.5</td><td> 6.4</td><td> 49.7</td><td>-1.8</td><td>12.9</td><td>68</td><td>NA</td></tr>\n",
       "\t<tr><th scope=row>6</th><td>2005</td><td> 1</td><td> 7.9</td><td>13.4</td><td>0.9</td><td>10.4</td><td> 5.5</td><td> 75.1</td><td>-5.0</td><td>17.1</td><td>71</td><td>NA</td></tr>\n",
       "</tbody>\n",
       "</table>\n"
      ],
      "text/latex": [
       "A data.frame: 6 × 12\n",
       "\\begin{tabular}{r|llllllllllll}\n",
       "  & year & month & meant & maxtp & mintp & mnmax & mnmin & rain & gmin & wdsp & maxgt & sun\\\\\n",
       "  & <int> & <int> & <dbl> & <dbl> & <dbl> & <dbl> & <dbl> & <dbl> & <dbl> & <dbl> & <int> & <lgl>\\\\\n",
       "\\hline\n",
       "\t1 & 2004 &  8 & 15.8 & 21.4 & 8.7 & 18.5 & 13.1 & 138.2 &  4.6 & 10.7 & 36 & NA\\\\\n",
       "\t2 & 2004 &  9 & 14.7 & 23.2 & 7.2 & 17.7 & 11.7 &  93.7 &  3.5 & 12.7 & 48 & NA\\\\\n",
       "\t3 & 2004 & 10 & 10.5 & 16.3 & 3.5 & 13.6 &  7.5 & 143.7 & -1.1 & 13.7 & 50 & NA\\\\\n",
       "\t4 & 2004 & 11 &  9.7 & 14.6 & 2.5 & 11.9 &  7.5 &  24.9 & -3.7 & 10.9 & 41 & NA\\\\\n",
       "\t5 & 2004 & 12 &  8.5 & 14.2 & 0.6 & 10.5 &  6.4 &  49.7 & -1.8 & 12.9 & 68 & NA\\\\\n",
       "\t6 & 2005 &  1 &  7.9 & 13.4 & 0.9 & 10.4 &  5.5 &  75.1 & -5.0 & 17.1 & 71 & NA\\\\\n",
       "\\end{tabular}\n"
      ],
      "text/markdown": [
       "\n",
       "A data.frame: 6 × 12\n",
       "\n",
       "| <!--/--> | year &lt;int&gt; | month &lt;int&gt; | meant &lt;dbl&gt; | maxtp &lt;dbl&gt; | mintp &lt;dbl&gt; | mnmax &lt;dbl&gt; | mnmin &lt;dbl&gt; | rain &lt;dbl&gt; | gmin &lt;dbl&gt; | wdsp &lt;dbl&gt; | maxgt &lt;int&gt; | sun &lt;lgl&gt; |\n",
       "|---|---|---|---|---|---|---|---|---|---|---|---|---|\n",
       "| 1 | 2004 |  8 | 15.8 | 21.4 | 8.7 | 18.5 | 13.1 | 138.2 |  4.6 | 10.7 | 36 | NA |\n",
       "| 2 | 2004 |  9 | 14.7 | 23.2 | 7.2 | 17.7 | 11.7 |  93.7 |  3.5 | 12.7 | 48 | NA |\n",
       "| 3 | 2004 | 10 | 10.5 | 16.3 | 3.5 | 13.6 |  7.5 | 143.7 | -1.1 | 13.7 | 50 | NA |\n",
       "| 4 | 2004 | 11 |  9.7 | 14.6 | 2.5 | 11.9 |  7.5 |  24.9 | -3.7 | 10.9 | 41 | NA |\n",
       "| 5 | 2004 | 12 |  8.5 | 14.2 | 0.6 | 10.5 |  6.4 |  49.7 | -1.8 | 12.9 | 68 | NA |\n",
       "| 6 | 2005 |  1 |  7.9 | 13.4 | 0.9 | 10.4 |  5.5 |  75.1 | -5.0 | 17.1 | 71 | NA |\n",
       "\n"
      ],
      "text/plain": [
       "  year month meant maxtp mintp mnmax mnmin rain  gmin wdsp maxgt sun\n",
       "1 2004  8    15.8  21.4  8.7   18.5  13.1  138.2  4.6 10.7 36    NA \n",
       "2 2004  9    14.7  23.2  7.2   17.7  11.7   93.7  3.5 12.7 48    NA \n",
       "3 2004 10    10.5  16.3  3.5   13.6   7.5  143.7 -1.1 13.7 50    NA \n",
       "4 2004 11     9.7  14.6  2.5   11.9   7.5   24.9 -3.7 10.9 41    NA \n",
       "5 2004 12     8.5  14.2  0.6   10.5   6.4   49.7 -1.8 12.9 68    NA \n",
       "6 2005  1     7.9  13.4  0.9   10.4   5.5   75.1 -5.0 17.1 71    NA "
      ]
     },
     "metadata": {},
     "output_type": "display_data"
    }
   ],
   "source": [
    "mydata = file.path(\"C:\",\"Users\",\"markc\",\"Desktop\",\"DataVisuals\",\"datasets\")\n",
    "\n",
    "datapath <-file.path(mydata,'weather.csv')\n",
    "dfdub<-read.csv(datapath)\n",
    "head(dfdub)\n",
    "\n"
   ]
  },
  {
   "cell_type": "markdown",
   "metadata": {},
   "source": [
    "## 3. Check out your data:\n",
    " - What is the structure? (str)\n",
    " - Check the summary - what is the range of each value?  Are there many NAs?\n",
    " - How many unique values are there for each variable?\n",
    "     - df %>% summarise_all(n_distinct)\n",
    " - Is there any column that only has a few values, so could be used for small multiples or stacking?\n",
    " - Are there columns that have more or less the same range of values?  Maybe that could be pivoted and used for stacking?\n",
    " - Is there any column you could use to change the size in a point chart?"
   ]
  },
  {
   "cell_type": "code",
   "execution_count": 3,
   "metadata": {},
   "outputs": [
    {
     "name": "stdout",
     "output_type": "stream",
     "text": [
      "'data.frame':\t233 obs. of  12 variables:\n",
      " $ year : int  2004 2004 2004 2004 2004 2005 2005 2005 2005 2005 ...\n",
      " $ month: int  8 9 10 11 12 1 2 3 4 6 ...\n",
      " $ meant: num  15.8 14.7 10.5 9.7 8.5 7.9 6 8 8.7 14.5 ...\n",
      " $ maxtp: num  21.4 23.2 16.3 14.6 14.2 13.4 13.6 13.6 13.9 21.5 ...\n",
      " $ mintp: num  8.7 7.2 3.5 2.5 0.6 0.9 -0.7 0.1 1.7 7.1 ...\n",
      " $ mnmax: num  18.5 17.7 13.6 11.9 10.5 10.4 8.5 10.2 11.8 17.3 ...\n",
      " $ mnmin: num  13.1 11.7 7.5 7.5 6.4 5.5 3.5 5.9 5.6 11.6 ...\n",
      " $ rain : num  138.2 93.7 143.7 24.9 49.7 ...\n",
      " $ gmin : num  4.6 3.5 -1.1 -3.7 -1.8 -5 -8.5 -6.3 -2.1 1.4 ...\n",
      " $ wdsp : num  10.7 12.7 13.7 10.9 12.9 17.1 12.3 12 11.6 9.7 ...\n",
      " $ maxgt: int  36 48 50 41 68 71 52 38 47 32 ...\n",
      " $ sun  : logi  NA NA NA NA NA NA ...\n"
     ]
    }
   ],
   "source": [
    "str(dfdub)"
   ]
  },
  {
   "cell_type": "code",
   "execution_count": 4,
   "metadata": {},
   "outputs": [
    {
     "data": {
      "text/html": [
       "<style>\n",
       ".list-inline {list-style: none; margin:0; padding: 0}\n",
       ".list-inline>li {display: inline-block}\n",
       ".list-inline>li:not(:last-child)::after {content: \"\\00b7\"; padding: 0 .5ex}\n",
       "</style>\n",
       "<ol class=list-inline><li>2004</li><li>2005</li><li>2006</li><li>2007</li><li>2008</li><li>2009</li><li>2010</li><li>2011</li><li>2012</li><li>2013</li><li>2014</li><li>2015</li><li>2016</li><li>2017</li><li>2018</li><li>2019</li><li>2020</li><li>2021</li><li>2022</li><li>2023</li><li>2024</li></ol>\n"
      ],
      "text/latex": [
       "\\begin{enumerate*}\n",
       "\\item 2004\n",
       "\\item 2005\n",
       "\\item 2006\n",
       "\\item 2007\n",
       "\\item 2008\n",
       "\\item 2009\n",
       "\\item 2010\n",
       "\\item 2011\n",
       "\\item 2012\n",
       "\\item 2013\n",
       "\\item 2014\n",
       "\\item 2015\n",
       "\\item 2016\n",
       "\\item 2017\n",
       "\\item 2018\n",
       "\\item 2019\n",
       "\\item 2020\n",
       "\\item 2021\n",
       "\\item 2022\n",
       "\\item 2023\n",
       "\\item 2024\n",
       "\\end{enumerate*}\n"
      ],
      "text/markdown": [
       "1. 2004\n",
       "2. 2005\n",
       "3. 2006\n",
       "4. 2007\n",
       "5. 2008\n",
       "6. 2009\n",
       "7. 2010\n",
       "8. 2011\n",
       "9. 2012\n",
       "10. 2013\n",
       "11. 2014\n",
       "12. 2015\n",
       "13. 2016\n",
       "14. 2017\n",
       "15. 2018\n",
       "16. 2019\n",
       "17. 2020\n",
       "18. 2021\n",
       "19. 2022\n",
       "20. 2023\n",
       "21. 2024\n",
       "\n",
       "\n"
      ],
      "text/plain": [
       " [1] 2004 2005 2006 2007 2008 2009 2010 2011 2012 2013 2014 2015 2016 2017 2018\n",
       "[16] 2019 2020 2021 2022 2023 2024"
      ]
     },
     "metadata": {},
     "output_type": "display_data"
    }
   ],
   "source": [
    "unique(dfdub$year)"
   ]
  },
  {
   "cell_type": "code",
   "execution_count": 5,
   "metadata": {},
   "outputs": [
    {
     "data": {
      "text/html": [
       "<style>\n",
       ".list-inline {list-style: none; margin:0; padding: 0}\n",
       ".list-inline>li {display: inline-block}\n",
       ".list-inline>li:not(:last-child)::after {content: \"\\00b7\"; padding: 0 .5ex}\n",
       "</style>\n",
       "<ol class=list-inline><li>8</li><li>9</li><li>10</li><li>11</li><li>12</li><li>1</li><li>2</li><li>3</li><li>4</li><li>6</li><li>7</li><li>5</li></ol>\n"
      ],
      "text/latex": [
       "\\begin{enumerate*}\n",
       "\\item 8\n",
       "\\item 9\n",
       "\\item 10\n",
       "\\item 11\n",
       "\\item 12\n",
       "\\item 1\n",
       "\\item 2\n",
       "\\item 3\n",
       "\\item 4\n",
       "\\item 6\n",
       "\\item 7\n",
       "\\item 5\n",
       "\\end{enumerate*}\n"
      ],
      "text/markdown": [
       "1. 8\n",
       "2. 9\n",
       "3. 10\n",
       "4. 11\n",
       "5. 12\n",
       "6. 1\n",
       "7. 2\n",
       "8. 3\n",
       "9. 4\n",
       "10. 6\n",
       "11. 7\n",
       "12. 5\n",
       "\n",
       "\n"
      ],
      "text/plain": [
       " [1]  8  9 10 11 12  1  2  3  4  6  7  5"
      ]
     },
     "metadata": {},
     "output_type": "display_data"
    }
   ],
   "source": [
    "unique(dfdub$month)"
   ]
  },
  {
   "cell_type": "code",
   "execution_count": 6,
   "metadata": {},
   "outputs": [
    {
     "data": {
      "text/html": [
       "<table class=\"dataframe\">\n",
       "<caption>A data.frame: 2 × 12</caption>\n",
       "<thead>\n",
       "\t<tr><th></th><th scope=col>year</th><th scope=col>month</th><th scope=col>meant</th><th scope=col>maxtp</th><th scope=col>mintp</th><th scope=col>mnmax</th><th scope=col>mnmin</th><th scope=col>rain</th><th scope=col>gmin</th><th scope=col>wdsp</th><th scope=col>maxgt</th><th scope=col>sun</th></tr>\n",
       "\t<tr><th></th><th scope=col>&lt;int&gt;</th><th scope=col>&lt;int&gt;</th><th scope=col>&lt;dbl&gt;</th><th scope=col>&lt;dbl&gt;</th><th scope=col>&lt;dbl&gt;</th><th scope=col>&lt;dbl&gt;</th><th scope=col>&lt;dbl&gt;</th><th scope=col>&lt;dbl&gt;</th><th scope=col>&lt;dbl&gt;</th><th scope=col>&lt;dbl&gt;</th><th scope=col>&lt;int&gt;</th><th scope=col>&lt;lgl&gt;</th></tr>\n",
       "</thead>\n",
       "<tbody>\n",
       "\t<tr><th scope=row>1</th><td>2004</td><td>8</td><td>15.8</td><td>21.4</td><td>8.7</td><td>18.5</td><td>13.1</td><td>138.2</td><td>4.6</td><td>10.7</td><td>36</td><td>NA</td></tr>\n",
       "\t<tr><th scope=row>2</th><td>2004</td><td>9</td><td>14.7</td><td>23.2</td><td>7.2</td><td>17.7</td><td>11.7</td><td> 93.7</td><td>3.5</td><td>12.7</td><td>48</td><td>NA</td></tr>\n",
       "</tbody>\n",
       "</table>\n"
      ],
      "text/latex": [
       "A data.frame: 2 × 12\n",
       "\\begin{tabular}{r|llllllllllll}\n",
       "  & year & month & meant & maxtp & mintp & mnmax & mnmin & rain & gmin & wdsp & maxgt & sun\\\\\n",
       "  & <int> & <int> & <dbl> & <dbl> & <dbl> & <dbl> & <dbl> & <dbl> & <dbl> & <dbl> & <int> & <lgl>\\\\\n",
       "\\hline\n",
       "\t1 & 2004 & 8 & 15.8 & 21.4 & 8.7 & 18.5 & 13.1 & 138.2 & 4.6 & 10.7 & 36 & NA\\\\\n",
       "\t2 & 2004 & 9 & 14.7 & 23.2 & 7.2 & 17.7 & 11.7 &  93.7 & 3.5 & 12.7 & 48 & NA\\\\\n",
       "\\end{tabular}\n"
      ],
      "text/markdown": [
       "\n",
       "A data.frame: 2 × 12\n",
       "\n",
       "| <!--/--> | year &lt;int&gt; | month &lt;int&gt; | meant &lt;dbl&gt; | maxtp &lt;dbl&gt; | mintp &lt;dbl&gt; | mnmax &lt;dbl&gt; | mnmin &lt;dbl&gt; | rain &lt;dbl&gt; | gmin &lt;dbl&gt; | wdsp &lt;dbl&gt; | maxgt &lt;int&gt; | sun &lt;lgl&gt; |\n",
       "|---|---|---|---|---|---|---|---|---|---|---|---|---|\n",
       "| 1 | 2004 | 8 | 15.8 | 21.4 | 8.7 | 18.5 | 13.1 | 138.2 | 4.6 | 10.7 | 36 | NA |\n",
       "| 2 | 2004 | 9 | 14.7 | 23.2 | 7.2 | 17.7 | 11.7 |  93.7 | 3.5 | 12.7 | 48 | NA |\n",
       "\n"
      ],
      "text/plain": [
       "  year month meant maxtp mintp mnmax mnmin rain  gmin wdsp maxgt sun\n",
       "1 2004 8     15.8  21.4  8.7   18.5  13.1  138.2 4.6  10.7 36    NA \n",
       "2 2004 9     14.7  23.2  7.2   17.7  11.7   93.7 3.5  12.7 48    NA "
      ]
     },
     "metadata": {},
     "output_type": "display_data"
    }
   ],
   "source": [
    "head(dfdub,2)"
   ]
  },
  {
   "cell_type": "code",
   "execution_count": 7,
   "metadata": {},
   "outputs": [
    {
     "data": {
      "text/html": [
       "<table class=\"dataframe\">\n",
       "<caption>A data.frame: 1 × 12</caption>\n",
       "<thead>\n",
       "\t<tr><th scope=col>year</th><th scope=col>month</th><th scope=col>meant</th><th scope=col>maxtp</th><th scope=col>mintp</th><th scope=col>mnmax</th><th scope=col>mnmin</th><th scope=col>rain</th><th scope=col>gmin</th><th scope=col>wdsp</th><th scope=col>maxgt</th><th scope=col>sun</th></tr>\n",
       "\t<tr><th scope=col>&lt;int&gt;</th><th scope=col>&lt;int&gt;</th><th scope=col>&lt;int&gt;</th><th scope=col>&lt;int&gt;</th><th scope=col>&lt;int&gt;</th><th scope=col>&lt;int&gt;</th><th scope=col>&lt;int&gt;</th><th scope=col>&lt;int&gt;</th><th scope=col>&lt;int&gt;</th><th scope=col>&lt;int&gt;</th><th scope=col>&lt;int&gt;</th><th scope=col>&lt;int&gt;</th></tr>\n",
       "</thead>\n",
       "<tbody>\n",
       "\t<tr><td>21</td><td>12</td><td>99</td><td>117</td><td>114</td><td>106</td><td>99</td><td>220</td><td>113</td><td>78</td><td>44</td><td>1</td></tr>\n",
       "</tbody>\n",
       "</table>\n"
      ],
      "text/latex": [
       "A data.frame: 1 × 12\n",
       "\\begin{tabular}{llllllllllll}\n",
       " year & month & meant & maxtp & mintp & mnmax & mnmin & rain & gmin & wdsp & maxgt & sun\\\\\n",
       " <int> & <int> & <int> & <int> & <int> & <int> & <int> & <int> & <int> & <int> & <int> & <int>\\\\\n",
       "\\hline\n",
       "\t 21 & 12 & 99 & 117 & 114 & 106 & 99 & 220 & 113 & 78 & 44 & 1\\\\\n",
       "\\end{tabular}\n"
      ],
      "text/markdown": [
       "\n",
       "A data.frame: 1 × 12\n",
       "\n",
       "| year &lt;int&gt; | month &lt;int&gt; | meant &lt;int&gt; | maxtp &lt;int&gt; | mintp &lt;int&gt; | mnmax &lt;int&gt; | mnmin &lt;int&gt; | rain &lt;int&gt; | gmin &lt;int&gt; | wdsp &lt;int&gt; | maxgt &lt;int&gt; | sun &lt;int&gt; |\n",
       "|---|---|---|---|---|---|---|---|---|---|---|---|\n",
       "| 21 | 12 | 99 | 117 | 114 | 106 | 99 | 220 | 113 | 78 | 44 | 1 |\n",
       "\n"
      ],
      "text/plain": [
       "  year month meant maxtp mintp mnmax mnmin rain gmin wdsp maxgt sun\n",
       "1 21   12    99    117   114   106   99    220  113  78   44    1  "
      ]
     },
     "metadata": {},
     "output_type": "display_data"
    }
   ],
   "source": [
    "dfdub %>% summarise_all(n_distinct)"
   ]
  },
  {
   "cell_type": "markdown",
   "metadata": {},
   "source": [
    "# 4. Tidy and manipulate the data\n",
    "\n",
    " - You will need to have three numeric dimensions, one encoded on the x-axis, one encoded on the y-axis and one encoded as animation.\n",
    " - You will need at least one (2 is better!) categorical dimensions to enhance the initial static chart.\n",
    " \n",
    " **Remember that each row may need to have a value for each dimension and each row should be unique*\n"
   ]
  },
  {
   "cell_type": "code",
   "execution_count": null,
   "metadata": {},
   "outputs": [],
   "source": []
  },
  {
   "cell_type": "markdown",
   "metadata": {},
   "source": [
    "## 6. Chart\n",
    "- Generate a single line chart, with just 2 dimensions.\n",
    "\n",
    "- Convert it to a point chart.\n",
    "- Enhance it with one or two other dimensions.\n",
    "\n",
    "- Generate a transition_time and a time_reveal chart, saving each and displaying your GIF."
   ]
  },
  {
   "cell_type": "code",
   "execution_count": 8,
   "metadata": {},
   "outputs": [
    {
     "ename": "ERROR",
     "evalue": "Error in `$<-.data.frame`(`*tmp*`, month_name, value = structure(integer(0), levels = c(\"Jan\", : replacement has 0 rows, data has 233\n",
     "output_type": "error",
     "traceback": [
      "Error in `$<-.data.frame`(`*tmp*`, month_name, value = structure(integer(0), levels = c(\"Jan\", : replacement has 0 rows, data has 233\nTraceback:\n",
      "1. `$<-`(`*tmp*`, month_name, value = structure(integer(0), levels = c(\"Jan\", \n . \"Feb\", \"Mar\", \"Apr\", \"May\", \"Jun\", \"Jul\", \"Aug\", \"Sep\", \"Oct\", \n . \"Nov\", \"Dec\"), class = \"factor\"))",
      "2. `$<-.data.frame`(`*tmp*`, month_name, value = structure(integer(0), levels = c(\"Jan\", \n . \"Feb\", \"Mar\", \"Apr\", \"May\", \"Jun\", \"Jul\", \"Aug\", \"Sep\", \"Oct\", \n . \"Nov\", \"Dec\"), class = \"factor\"))",
      "3. stop(sprintf(ngettext(N, \"replacement has %d row, data has %d\", \n .     \"replacement has %d rows, data has %d\"), N, nrows), domain = NA)"
     ]
    }
   ],
   "source": [
    "library(ggplot2)\n",
    "library(gganimate)\n",
    "\n",
    "# Assuming 'month' is a variable in dfdub that represents the month\n",
    "# You may need to adjust this depending on the structure of your data\n",
    "\n",
    "# Convert numeric month to month names\n",
    "months <- c(\"Jan\", \"Feb\", \"Mar\", \"Apr\", \"May\", \"Jun\", \"Jul\", \"Aug\", \"Sep\", \"Oct\", \"Nov\", \"Dec\")\n",
    "dfdub$month_name <- factor(dfdub$month_name, levels = months)\n",
    "\n",
    "# Static plot\n",
    "p <- ggplot(\n",
    "  dfdub, \n",
    "  aes(x = month_name, y = maxtp)\n",
    ") +\n",
    "  geom_bar(stat = \"identity\", position = \"dodge\") +\n",
    "  scale_fill_viridis_d() +\n",
    "  labs(x = \"Month\", y = \"MaxTemperature ° Celcius\")\n",
    "\n",
    "p\n",
    "\n"
   ]
  },
  {
   "cell_type": "code",
   "execution_count": null,
   "metadata": {},
   "outputs": [],
   "source": [
    "display_gif <- function(raw){\n",
    "    contents <- base64enc::base64encode(raw)\n",
    "    tag <- '<img src=\"data:image/gif;base64,%s\">'\n",
    "    IRdisplay::display_html(sprintf(tag, contents))\n",
    "}"
   ]
  },
  {
   "cell_type": "code",
   "execution_count": null,
   "metadata": {},
   "outputs": [],
   "source": [
    "p + transition_time(year) +\n",
    "  labs(title = \"Year: {frame_time}\")"
   ]
  },
  {
   "cell_type": "code",
   "execution_count": null,
   "metadata": {},
   "outputs": [],
   "source": [
    "anim_save(file.path(\"GM1.gif\"), animation = last_animation())\n",
    "display_gif(file.path(\"GM1.gif\"))\n"
   ]
  },
  {
   "cell_type": "markdown",
   "metadata": {},
   "source": [
    "## 7. Install and load the streamgraph package \n",
    " - Copy the code from https://hrbrmstr.github.io/streamgraph/\n",
    " - Adapt the code, to show names around your own name.\n",
    "\n",
    "With a new dataset:\n",
    "- Read in the \"vaccine-preventable-disease-cases-by-county-and-year-2.csv\"\n",
    "- Generate a streamgraph showing vaccinations across the years\n",
    "    - You can decide on the breakdown of what is displayed.\n"
   ]
  },
  {
   "cell_type": "code",
   "execution_count": null,
   "metadata": {},
   "outputs": [],
   "source": []
  },
  {
   "cell_type": "code",
   "execution_count": null,
   "metadata": {},
   "outputs": [],
   "source": []
  }
 ],
 "metadata": {
  "kernelspec": {
   "display_name": "R",
   "language": "R",
   "name": "ir"
  },
  "language_info": {
   "codemirror_mode": "r",
   "file_extension": ".r",
   "mimetype": "text/x-r-source",
   "name": "R",
   "pygments_lexer": "r",
   "version": "4.3.2"
  }
 },
 "nbformat": 4,
 "nbformat_minor": 4
}
