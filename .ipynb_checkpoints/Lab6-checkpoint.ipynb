{
 "cells": [
  {
   "cell_type": "markdown",
   "metadata": {},
   "source": [
    "# Mapping Exercise Visualising Data\n",
    "\n",
    "This exercise allows the developer to generate an interactive map of Ireland, showing population variance over the 26 counties in the last 180 years."
   ]
  },
  {
   "cell_type": "code",
   "execution_count": null,
   "metadata": {},
   "outputs": [],
   "source": [
    "\n",
    "# Run any of the install.packages() commands below for packages you don't have.\n",
    "#  install.packages(\"tmap\")\n",
    "#  install.packages(\"leaflet\")\n",
    "#  install.packages(\"leaflet.extras\")\n",
    "#  install.packages(\"scales\")\n",
    "#  install.packages(\"htmlwidgets\")\n",
    "#  install.packages(\"sf\")\n",
    "#  install.packages(\"dplyr\")\n",
    "library(tidyverse)\n",
    "library(raster)\n",
    "library(RColorBrewer)\n",
    "library(dplyr)\n",
    "library(\"tmap\")\n",
    "library(\"scales\")\n",
    "library(\"leaflet\")\n",
    "library(\"sf\")\n",
    "library(\"leaflet.extras\") #Needed for interactive map\n",
    "library(htmlwidgets)\n",
    "library(IRdisplay)\n",
    "\n",
    "options(stringsAsFactors = FALSE)"
   ]
  },
  {
   "cell_type": "markdown",
   "metadata": {},
   "source": [
    "## Step 1 Get and correct the shape files\n",
    "\n",
    " - Save irl_adm files in a sub-directory of your R directory\n",
    " - Save the location of it as IRshapefile\n",
    " - Using ogrListLayers, list the layers in the IRshapefile.\n",
    " - Check what's in each layer by reading the layer from IRshapefile using readOGR and generating a quick thematic map (qtm).  Also check the data in each layer.\n",
    " "
   ]
  },
  {
   "cell_type": "code",
   "execution_count": null,
   "metadata": {},
   "outputs": [],
   "source": []
  },
  {
   "cell_type": "markdown",
   "metadata": {},
   "source": [
    " - Read in the layer with the counties in it and call it IRgeo. (Hint, the list of counties starts with  \"Carlow\" \"Cavan\" \"Clare\" \"Cork\")\n",
    " - Rename the relevant column to 'County'.\n",
    " - Run the code below to add a Province name for each county. "
   ]
  },
  {
   "cell_type": "markdown",
   "metadata": {},
   "source": [
    "## Step 2 - Enhance the data\n",
    "\n",
    " - Add the provinces to IRgeo using the code provided below\n",
    " - generate a qtm, labelling each county by name and colouring them by Province."
   ]
  },
  {
   "cell_type": "code",
   "execution_count": null,
   "metadata": {},
   "outputs": [],
   "source": [
    "IRgeo@data$Province <- sapply(IRgeo@data$County, switch, \n",
    "                            \n",
    "                            'Carlow' = 'Leinster',\n",
    "                            'Cavan' = 'Ulster',\n",
    "                            'Clare' = 'Munster',\n",
    "                            'Cork' = 'Munster',\n",
    "                            'Donegal' = 'Ulster',\n",
    "                            'Dublin' = 'Leinster',\n",
    "                            'Galway' = 'Connaught',\n",
    "                            'Kerry' =  'Munster',\n",
    "                            'Kildare' = 'Leinster',\n",
    "                            'Kilkenny' = 'Leinster',\n",
    "                            'Laoighis' = 'Leinster',\n",
    "                            'Leitrim' = 'Connaught',\n",
    "                            'Limerick' =  'Munster',\n",
    "                            'Longford' = 'Leinster',\n",
    "                            'Louth' = 'Leinster',\n",
    "                            'Mayo' = 'Connaught',\n",
    "                            'Meath' = 'Leinster',\n",
    "                            'Monaghan' = 'Ulster',\n",
    "                            'Offaly' = 'Leinster',\n",
    "                            'Roscommon' = 'Connaught',\n",
    "                            'Sligo' = 'Connaught',\n",
    "                            'Tipperary' =  'Munster',\n",
    "                            'Waterford' =  'Munster',\n",
    "                            'Westmeath' = 'Leinster',\n",
    "                            'Wexford' = 'Leinster',\n",
    "                            'Wicklow' = 'Leinster')"
   ]
  },
  {
   "cell_type": "markdown",
   "metadata": {},
   "source": [
    "## Step 3 - generate a map.\n",
    "\n",
    "Generate a map of irgeo, labelling each county with the English county names, colouring them by Province."
   ]
  },
  {
   "cell_type": "markdown",
   "metadata": {},
   "source": [
    "## Step 4 - Expand the data\n",
    "\n",
    " - Read in the population data into a data frame called popdata.  Rename the column 'county' to 'County'\n",
    " - As was done for \n",
    " \n",
    " - Order IRgeo by County\n",
    " - Order popdata by County\n",
    " - Are they identical?  If not, where is the difference? Do you need to change any values in popdata? Hint: drop the rows that are in Northern Ireland (Antrim, Armagh, Derry, Down, Fermanagh and Tyrone) and check the spelling on anything else that doesn't match.\n",
    " \n",
    " - When they are identical, \n",
    " - merge the population data with  IRgeo to give a new IRmap spatial polygon dataframe.\n"
   ]
  },
  {
   "cell_type": "markdown",
   "metadata": {},
   "source": [
    "## Step 5\n",
    "\n",
    "- Create a couple of static maps, showing the population in different years in each one. e.g. one for population in 1841 and one for population in 2001.\n",
    "- Tidy up your map, add titles and shading and save it."
   ]
  },
  {
   "cell_type": "markdown",
   "metadata": {},
   "source": [
    "## Step 6 - static maps on merged data\n",
    "\n"
   ]
  },
  {
   "cell_type": "markdown",
   "metadata": {},
   "source": [
    "## Step 7 - Create an interactive map using Open Street Map (Leaflet)\n",
    "\n",
    " - Decide which years you are going to use (up to 5 is more than enough)\n",
    " - Find a single minimum (minpop) and maximum population (maxpop) value over all the years you are mapping.\n",
    " - For each year, create a palette (example below)\n",
    "    - Palette1841 <- colorQuantile(palette=\"Greens\", domain =c(minpop, maxpop))\n",
    " - Create a popup showing the county name, and population for each of the years being mapped.\n",
    " - Transform your map to sf format.\n",
    " - Make a new object (e.g. IRmap2) using leaflet on IRmap.\n",
    " - Add provider tiles using CartoDB.  You can use Positron or DarkMatter.\n",
    " - Add a polygon for each layer, giving it the appropriate colour and group.\n",
    " - Add a legend at the bottom, giving colours of the different layers and their groups.\n",
    "\n",
    " - Instantiate the object\n",
    " - Save it as a HTML widget."
   ]
  },
  {
   "cell_type": "code",
   "execution_count": null,
   "metadata": {},
   "outputs": [],
   "source": []
  }
 ],
 "metadata": {
  "kernelspec": {
   "display_name": "R",
   "language": "R",
   "name": "ir"
  },
  "language_info": {
   "codemirror_mode": "r",
   "file_extension": ".r",
   "mimetype": "text/x-r-source",
   "name": "R",
   "pygments_lexer": "r",
   "version": "4.2.3"
  }
 },
 "nbformat": 4,
 "nbformat_minor": 2
}
