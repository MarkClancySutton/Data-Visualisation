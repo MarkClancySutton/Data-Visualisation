{
 "cells": [
  {
   "cell_type": "markdown",
   "metadata": {},
   "source": [
    "# Week 01 - Beginning R"
   ]
  },
  {
   "cell_type": "code",
   "execution_count": null,
   "metadata": {},
   "outputs": [],
   "source": [
    "R.Version()"
   ]
  },
  {
   "cell_type": "code",
   "execution_count": null,
   "metadata": {},
   "outputs": [],
   "source": [
    "Sys.which(\"make\")"
   ]
  },
  {
   "cell_type": "code",
   "execution_count": null,
   "metadata": {},
   "outputs": [],
   "source": [
    "Sys.getenv(\"PATH\")"
   ]
  },
  {
   "cell_type": "code",
   "execution_count": null,
   "metadata": {},
   "outputs": [],
   "source": [
    "library(\"tidyverse\")"
   ]
  },
  {
   "cell_type": "markdown",
   "metadata": {},
   "source": [
    "# Starting data visualisation with R\n",
    "### Getting used to R\n",
    " - Installing and using packages\n",
    " - Using supplied datasets\n",
    " - Discovering data\n",
    " - Changing data types\n",
    "### Plotting single variables with ggplot\n",
    "\n",
    " - bar graph\n",
    " - Pie chart\n",
    " - Histogram\n"
   ]
  },
  {
   "cell_type": "markdown",
   "metadata": {},
   "source": [
    "### Getting used to R\n",
    "Having installed R, you have base functionality, but most of the functionality is offered by the packages that you can install. Many are provided in the Comprehensive R Archive Network(CRAN) but also via GitHub and other sources.  To enable the functionality, the package must be installed (once per R installation) and loaded (for every program run).\n",
    "\n",
    "R comes with a large number of supplied datasets that can be used for learning.  Thes are easily loaded into a daraframe and used.\n",
    "\n",
    "Before using data, the structure and content of the dataframe is needed.  Sometimes the structure needs to be altered before being used for visualisation."
   ]
  },
  {
   "cell_type": "markdown",
   "metadata": {},
   "source": [
    "### Using packages (e.g. tidyverse): \n",
    "\n",
    "A package needs to be installed in the environment once:\n",
    "\n",
    "install.packages(\"tidyverse\")\n",
    "\n",
    "It must be loaded into every program that uses it:\n",
    "\n",
    "library(tidyverse)\n",
    "\n",
    "You can see all the packages you have installed using the following function:\n",
    "installed.packages()"
   ]
  },
  {
   "cell_type": "code",
   "execution_count": null,
   "metadata": {},
   "outputs": [],
   "source": [
    "install.packages(\"tidyverse\")"
   ]
  },
  {
   "cell_type": "code",
   "execution_count": null,
   "metadata": {},
   "outputs": [],
   "source": [
    "library(tidyverse)"
   ]
  },
  {
   "cell_type": "markdown",
   "metadata": {},
   "source": [
    " ### Using supplied datasets\n",
    "To find what datasets are available:\n",
    "\n",
    " data()\n",
    " \n",
    " To find all datasets that are available to your environment (depending on packages installed), run: \n",
    " \n",
    " data(package = .packages(all.available = TRUE))\n",
    " \n",
    " To load a specific dataset (e.g. mtcars)\n",
    " \n",
    " data(\"mtcars\")\n",
    " \n",
    " This will load a dataframe called mtcars into your program.\n",
    " \n",
    " We'll just look at the standard dataset (package = \"datasets\")"
   ]
  },
  {
   "cell_type": "code",
   "execution_count": null,
   "metadata": {},
   "outputs": [],
   "source": [
    "data(package=\"datasets\")"
   ]
  },
  {
   "cell_type": "markdown",
   "metadata": {},
   "source": [
    "#### Tidyverse\n",
    "\n",
    "Tidyverse is a bundle of packages, including ggplot2 (for visualisations), dplyr (for data manipulation), tidyr (for tidying) and readr(to read in data).  We may use different packages though."
   ]
  },
  {
   "cell_type": "code",
   "execution_count": null,
   "metadata": {},
   "outputs": [],
   "source": [
    "data(package=\"ggplot2\")"
   ]
  },
  {
   "cell_type": "markdown",
   "metadata": {},
   "source": [
    "## Check contents\n",
    "\n",
    "To check the contents of a dataset, precede it with a question mark.  Sometimes the information isn't great, but it's a help."
   ]
  },
  {
   "cell_type": "code",
   "execution_count": null,
   "metadata": {},
   "outputs": [],
   "source": [
    "?mtcars"
   ]
  },
  {
   "cell_type": "markdown",
   "metadata": {},
   "source": [
    "### mtcars dataset\n",
    "The mtcars data was extracted from the 1974 Motor Trend US magazine, and comprises fuel consumption and 10 aspects of automobile design and performance for 32 automobiles (1973–74 models).\n",
    "\n",
    " - variable\tdescription\n",
    " - mpg\tMiles/(US) gallon\n",
    " - cyl\tNumber of cylinders\n",
    " - disp\tDisplacement (cu.in.)\n",
    " - hp\tGross horsepower\n",
    " - drat\tRear axle ratio\n",
    " - wt\tWeight (lb/1000)\n",
    " - qsec\t1/4 mile time\n",
    " - vs\tV/S\n",
    " - am\tTransmission (0 = automatic, 1 = manual)\n",
    " - gear\tNumber of forward gears\n",
    " - carb\tNumber of carburetors\n"
   ]
  },
  {
   "cell_type": "markdown",
   "metadata": {},
   "source": [
    "So we'll do some visualisation from mtcars.  First we load the dataframe using the data() function."
   ]
  },
  {
   "cell_type": "code",
   "execution_count": null,
   "metadata": {},
   "outputs": [],
   "source": [
    "data(\"mtcars\")"
   ]
  },
  {
   "cell_type": "markdown",
   "metadata": {},
   "source": [
    "#### Discovering data\n",
    "\n",
    "The data is in a data frame (data.frame).  This is quite similar to the Pandas DataFrame.  It can have both a column index and a row index.\n",
    "\n",
    "Once the data is in the dataframe, you can:\n",
    "\n",
    " - display the first few lines - e.g. **head(mtcars)**\n",
    " - display the number of rows or  - e.g. **nrow(mtcars)** or **ncol(mtcars)**\n",
    " - get a summary of the data in each column - e.g. **summary(mtcars)** and\n",
    " - get the structure of each column - e.g. **str(mtcars)**\n",
    " - get the rowname of each row - e.g. **rownames(mtcars)**\n",
    " - display the whole dataframe - **mtcars**\n",
    " - **length()** and **dim()** are other functions you can call.\n",
    " "
   ]
  },
  {
   "cell_type": "code",
   "execution_count": null,
   "metadata": {},
   "outputs": [],
   "source": [
    "head(mtcars)"
   ]
  },
  {
   "cell_type": "markdown",
   "metadata": {},
   "source": [
    "As we can see, the frame has names for each column and names for each row.  Every item in a column is of the same data type.  The data type is shown under the column name.  In this case, all columns are doubles."
   ]
  },
  {
   "cell_type": "code",
   "execution_count": null,
   "metadata": {},
   "outputs": [],
   "source": [
    "nrow(mtcars)\n",
    "ncol(mtcars)"
   ]
  },
  {
   "cell_type": "code",
   "execution_count": null,
   "metadata": {},
   "outputs": [],
   "source": [
    "rownames(mtcars)"
   ]
  },
  {
   "cell_type": "code",
   "execution_count": null,
   "metadata": {},
   "outputs": [],
   "source": [
    "colnames(mtcars)"
   ]
  },
  {
   "cell_type": "code",
   "execution_count": null,
   "metadata": {},
   "outputs": [],
   "source": [
    "summary(mtcars)"
   ]
  },
  {
   "cell_type": "code",
   "execution_count": null,
   "metadata": {},
   "outputs": [],
   "source": [
    "str(mtcars)"
   ]
  },
  {
   "cell_type": "markdown",
   "metadata": {},
   "source": [
    "#### Manipulating the data\n",
    "You can also access and manipulate columns in the dataset\n",
    "\n",
    " - To get the contents of the hp column in mtcars  - **mtcars\\\\$hp**. This returns a vector.\n",
    " - To get the dataframe with just the rowname and hp column  - **mtcars['hp']**. This returns a data.frame.\n",
    " - To get the class of data in a column, class() e.g. - **class(mtcars\\\\$hp)**\n",
    " - To copy the dataframe into another dataframe you can use the assignment function **<-**  e.g. **df<-mtcars**\n",
    " \n",
    " - If we want categorical data, we may need to put the values into categories or *factor* the column.\n",
    "\n",
    " - To convert a vector column into a factor or category - e.g. gear column\n",
    "\n",
    " - To create a categorical variable:  **df\\\\$gear <- as.factor(df\\\\$gear)**"
   ]
  },
  {
   "cell_type": "code",
   "execution_count": null,
   "metadata": {},
   "outputs": [],
   "source": [
    "class(mtcars$hp)"
   ]
  },
  {
   "cell_type": "code",
   "execution_count": null,
   "metadata": {},
   "outputs": [],
   "source": [
    "mtcars$hp"
   ]
  },
  {
   "cell_type": "code",
   "execution_count": null,
   "metadata": {},
   "outputs": [],
   "source": [
    "class(mtcars['hp'])"
   ]
  },
  {
   "cell_type": "code",
   "execution_count": null,
   "metadata": {},
   "outputs": [],
   "source": [
    "mtcars['hp']"
   ]
  },
  {
   "cell_type": "code",
   "execution_count": null,
   "metadata": {},
   "outputs": [],
   "source": [
    "mtcars"
   ]
  },
  {
   "cell_type": "code",
   "execution_count": null,
   "metadata": {},
   "outputs": [],
   "source": [
    "mtcars$cyl"
   ]
  },
  {
   "cell_type": "code",
   "execution_count": null,
   "metadata": {},
   "outputs": [],
   "source": [
    "unique(mtcars$cyl)"
   ]
  },
  {
   "cell_type": "code",
   "execution_count": null,
   "metadata": {},
   "outputs": [],
   "source": [
    "class(mtcars$cyl)"
   ]
  },
  {
   "cell_type": "code",
   "execution_count": null,
   "metadata": {},
   "outputs": [],
   "source": [
    "df<-mtcars"
   ]
  },
  {
   "cell_type": "code",
   "execution_count": null,
   "metadata": {},
   "outputs": [],
   "source": [
    "df"
   ]
  },
  {
   "cell_type": "code",
   "execution_count": null,
   "metadata": {},
   "outputs": [],
   "source": [
    "class(mtcars$gear)\n",
    "df$gear<-as.factor(df$gear)\n",
    "class(df$gear)"
   ]
  },
  {
   "cell_type": "markdown",
   "metadata": {},
   "source": [
    "# Visualisation\n",
    "### data, grammar and geometries.\n",
    " - The data is what needs to be plotted.\n",
    " - Graphics are made up of distinct layers of grammatical elements.\n",
    " - Meaningful plots are built around appropriate aesthetic mappings. \n",
    " - The aesthetics layer defines the scales where the mapping takes place.\n",
    " - The geom layer refers to the shape the data will take.\n",
    "\n"
   ]
  },
  {
   "cell_type": "markdown",
   "metadata": {},
   "source": [
    "### Plotting single variables with ggplot\n",
    "\n",
    " - Histogram \n",
    " - bar graph\n",
    " - Pie chart\n"
   ]
  },
  {
   "cell_type": "markdown",
   "metadata": {},
   "source": [
    "## Layering your plot\n",
    "The first layer tells the plot what data is to be used and is generally not run on its own, but we will run it here just to show.  Note:  Only a grey area is shown - you didn't get an error!"
   ]
  },
  {
   "cell_type": "code",
   "execution_count": null,
   "metadata": {},
   "outputs": [],
   "source": [
    "ggplot(mtcars)"
   ]
  },
  {
   "cell_type": "markdown",
   "metadata": {},
   "source": [
    "## How ggplot works\n",
    "\n",
    " - ggplot sets out the area of the graph  (ggplot)\n",
    " - The first term defines what data is being used, and the aesthetics (**aes()**) of the graph.  This is followed by + to add a new term.  This cannot be at the start of the line.\n",
    " - The next term defines what type of graph, or **geom** will be used.\n",
    " - You can save the graph equation as you build it and reuse parts of it that you have previously saved."
   ]
  },
  {
   "cell_type": "code",
   "execution_count": null,
   "metadata": {},
   "outputs": [],
   "source": []
  },
  {
   "cell_type": "markdown",
   "metadata": {},
   "source": [
    "#### Single variable exploration\n",
    " - Bar graph\n",
    " "
   ]
  },
  {
   "cell_type": "markdown",
   "metadata": {},
   "source": [
    "## Bar graph\n",
    " - These show the number of rows for each value of the column.  In this case, mtcars is providing the data and there is a bar for every value of cyl (number of cylinders in the car)\n",
    " - The chart type is a bar chart (geom_bar).\n",
    " - Because there is only one variable and two axes, the graph is monochrome (black and white)."
   ]
  },
  {
   "cell_type": "markdown",
   "metadata": {},
   "source": [
    "The x axis in a bar chart should use factors, so we'll convert cyl to factors"
   ]
  },
  {
   "cell_type": "code",
   "execution_count": null,
   "metadata": {},
   "outputs": [],
   "source": [
    "mtcars$cyl = as.factor(mtcars$cyl)"
   ]
  },
  {
   "cell_type": "code",
   "execution_count": null,
   "metadata": {},
   "outputs": [],
   "source": [
    "ggplot(mtcars, aes(cyl)) + geom_bar()\n"
   ]
  },
  {
   "cell_type": "markdown",
   "metadata": {},
   "source": [
    "Note:  We can save our plot layers and build on them"
   ]
  },
  {
   "cell_type": "code",
   "execution_count": null,
   "metadata": {},
   "outputs": [],
   "source": [
    "p<-ggplot(mtcars, aes(cyl)) \n",
    "p<-p+geom_bar()\n",
    "p"
   ]
  },
  {
   "cell_type": "markdown",
   "metadata": {},
   "source": [
    "Because there is a column for every value, this doesn't work well for real numbers"
   ]
  },
  {
   "cell_type": "code",
   "execution_count": null,
   "metadata": {},
   "outputs": [],
   "source": [
    "p<-ggplot(mtcars, aes(mpg))\n",
    "p+geom_bar()"
   ]
  },
  {
   "cell_type": "markdown",
   "metadata": {},
   "source": [
    "We could make it categorical, by using the as.factor function, but it's still not great!"
   ]
  },
  {
   "cell_type": "code",
   "execution_count": null,
   "metadata": {},
   "outputs": [],
   "source": [
    "df<-mtcars\n",
    "df$mpg<-as.factor(df$mpg)\n",
    "p<-ggplot(df, aes(mpg))\n",
    "p+geom_bar()"
   ]
  },
  {
   "cell_type": "markdown",
   "metadata": {},
   "source": [
    "Or integer, by using the as.integer function"
   ]
  },
  {
   "cell_type": "code",
   "execution_count": null,
   "metadata": {},
   "outputs": [],
   "source": [
    "df<-mtcars\n",
    "df$mpg<-as.integer(df$mpg)\n",
    "p<-ggplot(df, aes(mpg))\n",
    "p+geom_bar()"
   ]
  },
  {
   "cell_type": "markdown",
   "metadata": {},
   "source": [
    "To draw a pie chart, we start with a bar chart, then convert the geometry to polar_coords:"
   ]
  },
  {
   "cell_type": "code",
   "execution_count": null,
   "metadata": {},
   "outputs": [],
   "source": [
    "ggplot(data=mtcars, aes(x=cyl)) + \n",
    "  geom_bar() "
   ]
  },
  {
   "cell_type": "markdown",
   "metadata": {},
   "source": [
    "On a bar chart, the bars are mapped using cartesian coordinates (i.e. using an x,y axis).  The default mapping is coord_cartesian.   We have been specifying that the different values are along the x-axis.  If we change it to the y-axis, leaving the x-axis blank, we will get a stacked bar chart.\n",
    "\n",
    "Because the values are stacked, ggplot automatically differentiates the bands by colour, and generates a legend, labelled with the column name, giving which value of the column is represented in each colour.\n"
   ]
  },
  {
   "cell_type": "code",
   "execution_count": null,
   "metadata": {},
   "outputs": [],
   "source": [
    "ggplot(data=mtcars, aes(x=\"\", fill = cyl)) + \n",
    "  geom_bar() "
   ]
  },
  {
   "cell_type": "markdown",
   "metadata": {},
   "source": [
    "##  Parts of a whole\n",
    "- Pie charts\n",
    "- Rose charts\n",
    "- Stacked bar / Rose charts\n",
    "- Donut charts\n"
   ]
  },
  {
   "cell_type": "markdown",
   "metadata": {},
   "source": [
    "We can also visualise the exact same thing as a stacked bar chart, using cartesian coordinates"
   ]
  },
  {
   "cell_type": "markdown",
   "metadata": {},
   "source": [
    "## Let's try a pie chart\n",
    "\n",
    "To get a pie chart, two things must change:\n",
    "\n",
    " - The mapping must be changed from cartesian to polar. Instead of using the signed distances along the two coordinate axes, polar coordinates specifies the location of a point P in the plane by its distance r  from the origin and the angle θ  made between the line segment from the origin to P  and the positive x-axis. \n",
    " - Because we've changed coordinates, our data needs to be on the Y axis. We have no data on the x axis."
   ]
  },
  {
   "cell_type": "markdown",
   "metadata": {},
   "source": [
    "That didn't work as expected.  Because we've changed coordinates, our data needs to be on the Y axis.  We have no data on the x axis."
   ]
  },
  {
   "cell_type": "code",
   "execution_count": null,
   "metadata": {},
   "outputs": [],
   "source": [
    "ggplot(data=mtcars, aes(x = \"\", fill = cyl))+ \n",
    "geom_bar() + \n",
    "  coord_polar(theta = \"y\") "
   ]
  },
  {
   "cell_type": "markdown",
   "metadata": {},
   "source": [
    "A bullet chart!!!"
   ]
  },
  {
   "cell_type": "code",
   "execution_count": null,
   "metadata": {},
   "outputs": [],
   "source": [
    "pie <- ggplot(mtcars, aes(x = \"\", fill = factor(cyl))) +\n",
    " geom_bar() +\n",
    "coord_polar()\n",
    "pie"
   ]
  },
  {
   "cell_type": "markdown",
   "metadata": {},
   "source": [
    "Hmm... more of a pacman than a bullet! Note that the circle isn't filled.  To fill the circle, give the bar a width of 1."
   ]
  },
  {
   "cell_type": "code",
   "execution_count": null,
   "metadata": {},
   "outputs": [],
   "source": [
    "pie <- ggplot(mtcars, aes(x = \"\", fill = factor(cyl))) +\n",
    " geom_bar(width=1) +\n",
    "coord_polar()\n",
    "pie"
   ]
  },
  {
   "cell_type": "markdown",
   "metadata": {},
   "source": [
    "A coxcomb chart - each pie has the same angle, but the areas represent the size, so blue is bigger."
   ]
  },
  {
   "cell_type": "code",
   "execution_count": null,
   "metadata": {},
   "outputs": [],
   "source": [
    "ggplot(data = mtcars) +\n",
    "geom_bar(mapping = aes(x = cyl, fill = cyl)) +\n",
    "coord_polar()"
   ]
  },
  {
   "cell_type": "markdown",
   "metadata": {},
   "source": [
    "Again, we can fill the area by setting width = 1.  What happens if we set it to 2?  Or to .5?"
   ]
  },
  {
   "cell_type": "code",
   "execution_count": null,
   "metadata": {},
   "outputs": [],
   "source": [
    "ggplot(data = mtcars) +\n",
    "geom_bar(mapping = aes(x = cyl, fill = cyl), width=1) +\n",
    "coord_polar()"
   ]
  },
  {
   "cell_type": "markdown",
   "metadata": {},
   "source": [
    "# Making our visualisation notable.\n",
    "\n",
    "If you were passing by a poster that was showing this visualisation, would you understand it?  **NO!!!**\n",
    "\n",
    "ggplot allows us to modify our visualisation to make it stand out.\n",
    "\n",
    "### Themes\n",
    "\n",
    "The theme function allows us to add, amend or delete options on the graph.  \n",
    " - We can get rid of, or change the axes\n",
    " - we can change the background\n",
    " - We can give it a label and annotate it.\n",
    " - We can put a numeric value on each of the pies."
   ]
  },
  {
   "cell_type": "markdown",
   "metadata": {},
   "source": [
    "First, let's look at it again:"
   ]
  },
  {
   "cell_type": "code",
   "execution_count": null,
   "metadata": {},
   "outputs": [],
   "source": [
    "ggplot(data=mtcars, aes(x = \"\", fill = cyl))+ \n",
    "geom_bar() + \n",
    "  coord_polar(theta = \"y\") "
   ]
  },
  {
   "cell_type": "markdown",
   "metadata": {},
   "source": [
    "Let's get rid of the axis labels - i.e. the \"count\" on the x-axis and the \"x\" on the y axis."
   ]
  },
  {
   "cell_type": "code",
   "execution_count": null,
   "metadata": {},
   "outputs": [],
   "source": [
    "ggplot(data = mtcars) +\n",
    "geom_bar(mapping = aes(x =\"\", fill = cyl), width = 1) +\n",
    "\n",
    "theme(\n",
    "    axis.title.y=element_blank(),\n",
    "    axis.title.x=element_blank()\n",
    "\n",
    ") +\n",
    "coord_polar(theta=\"y\")"
   ]
  },
  {
   "cell_type": "markdown",
   "metadata": {},
   "source": [
    "Now lLet's get rid of the axis text."
   ]
  },
  {
   "cell_type": "code",
   "execution_count": null,
   "metadata": {},
   "outputs": [],
   "source": [
    "ggplot(data = mtcars) +\n",
    "geom_bar(mapping = aes(x =\"\", fill = cyl), width = 1) +\n",
    "\n",
    "theme(\n",
    "    axis.title.x=element_blank(),\n",
    "    axis.title.y=element_blank(),\n",
    "    axis.text.x=element_blank(),\n",
    "    axis.text.y=element_blank(),\n",
    "\n",
    ") +\n",
    "coord_polar(theta=\"y\")"
   ]
  },
  {
   "cell_type": "markdown",
   "metadata": {},
   "source": [
    "..and the grey background. "
   ]
  },
  {
   "cell_type": "code",
   "execution_count": null,
   "metadata": {},
   "outputs": [],
   "source": [
    "ggplot(mtcars, aes(x = \"\", fill = cyl,)) +\n",
    "\n",
    "geom_bar(position=\"fill\")+\n",
    "  geom_text(\n",
    "    stat='count', \n",
    "    aes(y=after_stat(..count..),\n",
    "        label=after_stat(scales::percent(..count../sum(..count..),1))),\n",
    "    position=position_fill(0.5),\n",
    "  ) +\n",
    "  coord_polar(theta = \"y\") +\n",
    "theme(\n",
    "   axis.title.x=element_blank(),\n",
    "    axis.text.x=element_blank(),\n",
    "    axis.title.y=element_blank(),\n",
    "    axis.text.y=element_blank(),\n",
    "    panel.background=element_rect(fill='white'),\n",
    "    )\n"
   ]
  },
  {
   "cell_type": "markdown",
   "metadata": {},
   "source": [
    "## I can change the colours..."
   ]
  },
  {
   "cell_type": "code",
   "execution_count": null,
   "metadata": {},
   "outputs": [],
   "source": [
    "ggplot(data=mtcars, aes(x=\"\", fill=cyl)) +\n",
    "  geom_bar(position=\"fill\") +\n",
    "  geom_text(\n",
    "    stat='count', \n",
    "    aes(y=after_stat(..count..),\n",
    "        label=after_stat(scales::percent(..count../sum(..count..),1))),\n",
    "    position=position_fill(0.5),\n",
    "  ) +\n",
    "  coord_polar(theta=\"y\") +\n",
    "  labs(x=NULL, y=NULL) +\n",
    "  scale_fill_brewer(palette=\"Pastel1\") +\n",
    "  theme_void()"
   ]
  },
  {
   "cell_type": "markdown",
   "metadata": {},
   "source": [
    "# Increasing readability using text"
   ]
  },
  {
   "cell_type": "code",
   "execution_count": null,
   "metadata": {},
   "outputs": [],
   "source": [
    "ggplot(mtcars,  aes(x = \"\",  fill = cyl, )) +\n",
    "\n",
    "geom_bar(position = \"fill\")+\n",
    "  geom_text(\n",
    "    stat = \"count\",  \n",
    "    aes(y = after_stat(..count..), \n",
    "        label = after_stat(scales::percent(..count../ sum(..count..), 1))), \n",
    "    position = position_fill(0.5), \n",
    "  ) +\n",
    "  coord_polar(theta = \"y\") +\n",
    "theme(\n",
    "   axis.title.x = element_blank(), \n",
    "    axis.text.x = element_blank(), \n",
    "    axis.title.y = element_blank(), \n",
    "    axis.text.y = element_blank(), \n",
    "    panel.background = element_rect(fill = \"white\"), \n",
    "    )\n"
   ]
  },
  {
   "cell_type": "markdown",
   "metadata": {},
   "source": [
    "# Histograms"
   ]
  },
  {
   "cell_type": "code",
   "execution_count": null,
   "metadata": {},
   "outputs": [],
   "source": [
    "ggplot(mtcars,aes(x=as.integer(cyl))) + geom_histogram(bins=3)"
   ]
  }
 ],
 "metadata": {
  "kernelspec": {
   "display_name": "R",
   "language": "R",
   "name": "ir"
  },
  "language_info": {
   "codemirror_mode": "r",
   "file_extension": ".r",
   "mimetype": "text/x-r-source",
   "name": "R",
   "pygments_lexer": "r",
   "version": "4.2.2"
  }
 },
 "nbformat": 4,
 "nbformat_minor": 4
}
