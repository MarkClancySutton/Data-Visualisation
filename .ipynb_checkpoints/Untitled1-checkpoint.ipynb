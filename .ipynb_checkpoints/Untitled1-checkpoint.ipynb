{
 "cells": [
  {
   "cell_type": "code",
   "execution_count": 2,
   "id": "6aa302fc-8de3-4e7f-bda3-b1343139aed6",
   "metadata": {},
   "outputs": [
    {
     "name": "stderr",
     "output_type": "stream",
     "text": [
      "── \u001b[1mAttaching core tidyverse packages\u001b[22m ──────────────────────────────────────────────────────────────── tidyverse 2.0.0 ──\n",
      "\u001b[32m✔\u001b[39m \u001b[34mforcats  \u001b[39m 1.0.0     \u001b[32m✔\u001b[39m \u001b[34mreadr    \u001b[39m 2.1.5\n",
      "\u001b[32m✔\u001b[39m \u001b[34mlubridate\u001b[39m 1.9.3     \u001b[32m✔\u001b[39m \u001b[34mstringr  \u001b[39m 1.5.1\n",
      "\u001b[32m✔\u001b[39m \u001b[34mpurrr    \u001b[39m 1.0.2     \u001b[32m✔\u001b[39m \u001b[34mtibble   \u001b[39m 3.2.1\n",
      "── \u001b[1mConflicts\u001b[22m ────────────────────────────────────────────────────────────────────────────────── tidyverse_conflicts() ──\n",
      "\u001b[31m✖\u001b[39m \u001b[34mdplyr\u001b[39m::\u001b[32mfilter()\u001b[39m masks \u001b[34mstats\u001b[39m::filter()\n",
      "\u001b[31m✖\u001b[39m \u001b[34mdplyr\u001b[39m::\u001b[32mlag()\u001b[39m    masks \u001b[34mstats\u001b[39m::lag()\n",
      "\u001b[36mℹ\u001b[39m Use the conflicted package (\u001b[3m\u001b[34m<http://conflicted.r-lib.org/>\u001b[39m\u001b[23m) to force all conflicts to become errors\n"
     ]
    },
    {
     "ename": "ERROR",
     "evalue": "Error in library(zoo): there is no package called 'zoo'\n",
     "output_type": "error",
     "traceback": [
      "Error in library(zoo): there is no package called 'zoo'\nTraceback:\n",
      "1. library(zoo)"
     ]
    }
   ],
   "source": [
    "library(tidyverse)\n",
    "library(zoo)"
   ]
  },
  {
   "cell_type": "code",
   "execution_count": 3,
   "id": "45c89714-5415-4c50-8916-7e1c6cb5e624",
   "metadata": {},
   "outputs": [],
   "source": [
    "mydatasets = file.path(\"C:\",\"Users\",\"markc\",\"Desktop\",\"DataVisuals\",\"datasets\")"
   ]
  },
  {
   "cell_type": "code",
   "execution_count": 4,
   "id": "f06d46e1-3025-45f7-ac33-b5358e8795f9",
   "metadata": {},
   "outputs": [],
   "source": [
    "dfsource <- file.path(mydatasets, \"IRCountyPop.csv\")\n",
    "Pop<- read.csv(dfsource, stringsAsFactors = F)"
   ]
  },
  {
   "cell_type": "code",
   "execution_count": null,
   "id": "023c2440-96c2-4922-8639-9f4f82f53366",
   "metadata": {},
   "outputs": [],
   "source": [
    "head(Pop)"
   ]
  },
  {
   "cell_type": "code",
   "execution_count": null,
   "id": "c4aa0e12-6a0a-4753-8a0b-82695af9fd41",
   "metadata": {},
   "outputs": [],
   "source": [
    "str(Pop)"
   ]
  },
  {
   "cell_type": "code",
   "execution_count": 5,
   "id": "37d43fc6-7367-46f5-9fe0-8f330b386692",
   "metadata": {},
   "outputs": [
    {
     "name": "stdout",
     "output_type": "stream",
     "text": [
      " [1] \"county\" \"1841\"   \"1851\"   \"1861\"   \"1871\"   \"1881\"   \"1891\"   \"1901\"  \n",
      " [9] \"1911\"   \"1926\"   \"1936\"   \"1951\"   \"1961\"   \"1971\"   \"1981\"   \"1991\"  \n",
      "[17] \"2001\"  \n"
     ]
    }
   ],
   "source": [
    "# Assuming Pop is your data frame\n",
    "names(Pop) <- gsub('^pop', '', names(Pop), ignore.case = TRUE)\n",
    "\n",
    "# Trim leading and trailing spaces from column names\n",
    "names(Pop) <- trimws(names(Pop))\n",
    "\n",
    "# Display the updated column names\n",
    "print(names(Pop))\n"
   ]
  },
  {
   "cell_type": "code",
   "execution_count": 6,
   "id": "e64895ae-500a-4d08-b702-d7ec78c381b3",
   "metadata": {},
   "outputs": [
    {
     "data": {
      "text/html": [
       "<table class=\"dataframe\">\n",
       "<caption>A data.frame: 6 × 17</caption>\n",
       "<thead>\n",
       "\t<tr><th></th><th scope=col>county</th><th scope=col>1841</th><th scope=col>1851</th><th scope=col>1861</th><th scope=col>1871</th><th scope=col>1881</th><th scope=col>1891</th><th scope=col>1901</th><th scope=col>1911</th><th scope=col>1926</th><th scope=col>1936</th><th scope=col>1951</th><th scope=col>1961</th><th scope=col>1971</th><th scope=col>1981</th><th scope=col>1991</th><th scope=col>2001</th></tr>\n",
       "\t<tr><th></th><th scope=col>&lt;chr&gt;</th><th scope=col>&lt;int&gt;</th><th scope=col>&lt;int&gt;</th><th scope=col>&lt;int&gt;</th><th scope=col>&lt;int&gt;</th><th scope=col>&lt;int&gt;</th><th scope=col>&lt;int&gt;</th><th scope=col>&lt;int&gt;</th><th scope=col>&lt;int&gt;</th><th scope=col>&lt;int&gt;</th><th scope=col>&lt;int&gt;</th><th scope=col>&lt;int&gt;</th><th scope=col>&lt;int&gt;</th><th scope=col>&lt;int&gt;</th><th scope=col>&lt;int&gt;</th><th scope=col>&lt;int&gt;</th><th scope=col>&lt;int&gt;</th></tr>\n",
       "</thead>\n",
       "<tbody>\n",
       "\t<tr><th scope=row>1</th><td>Antrim</td><td>361428</td><td>360498</td><td>372008</td><td>398624</td><td>413178</td><td>416143</td><td>543329</td><td>578704</td><td>608258</td><td>635692</td><td>661693</td><td>677512</td><td>663051</td><td>579750</td><td>591404</td><td>617462</td></tr>\n",
       "\t<tr><th scope=row>2</th><td>Armagh</td><td>227190</td><td>189091</td><td>184138</td><td>171142</td><td>154515</td><td>135444</td><td>123018</td><td>117783</td><td>105693</td><td>102646</td><td>108739</td><td>111701</td><td>125461</td><td>127607</td><td>136469</td><td>144178</td></tr>\n",
       "\t<tr><th scope=row>3</th><td>Carlow</td><td> 81658</td><td> 65222</td><td> 54610</td><td> 49012</td><td> 44103</td><td> 38734</td><td> 35881</td><td> 34498</td><td> 33018</td><td> 33127</td><td> 32993</td><td> 32248</td><td> 33202</td><td> 38646</td><td> 39774</td><td> 44829</td></tr>\n",
       "\t<tr><th scope=row>4</th><td>Cavan </td><td>243094</td><td>173989</td><td>153870</td><td>140735</td><td>129476</td><td>111917</td><td> 97451</td><td> 91173</td><td> 82452</td><td> 76670</td><td> 66377</td><td> 56594</td><td> 49345</td><td> 53855</td><td> 52796</td><td> 56546</td></tr>\n",
       "\t<tr><th scope=row>5</th><td>Clare </td><td>285456</td><td>211865</td><td>165884</td><td>147779</td><td>141379</td><td>124425</td><td>110658</td><td>102604</td><td> 93685</td><td> 88642</td><td> 80264</td><td> 72753</td><td> 74104</td><td> 86547</td><td> 89864</td><td>102109</td></tr>\n",
       "\t<tr><th scope=row>6</th><td>Cork  </td><td>851528</td><td>647088</td><td>542486</td><td>515804</td><td>494312</td><td>437216</td><td>405517</td><td>392951</td><td>364906</td><td>355253</td><td>340784</td><td>330018</td><td>352534</td><td>402162</td><td>410073</td><td>447483</td></tr>\n",
       "</tbody>\n",
       "</table>\n"
      ],
      "text/latex": [
       "A data.frame: 6 × 17\n",
       "\\begin{tabular}{r|lllllllllllllllll}\n",
       "  & county & 1841 & 1851 & 1861 & 1871 & 1881 & 1891 & 1901 & 1911 & 1926 & 1936 & 1951 & 1961 & 1971 & 1981 & 1991 & 2001\\\\\n",
       "  & <chr> & <int> & <int> & <int> & <int> & <int> & <int> & <int> & <int> & <int> & <int> & <int> & <int> & <int> & <int> & <int> & <int>\\\\\n",
       "\\hline\n",
       "\t1 & Antrim & 361428 & 360498 & 372008 & 398624 & 413178 & 416143 & 543329 & 578704 & 608258 & 635692 & 661693 & 677512 & 663051 & 579750 & 591404 & 617462\\\\\n",
       "\t2 & Armagh & 227190 & 189091 & 184138 & 171142 & 154515 & 135444 & 123018 & 117783 & 105693 & 102646 & 108739 & 111701 & 125461 & 127607 & 136469 & 144178\\\\\n",
       "\t3 & Carlow &  81658 &  65222 &  54610 &  49012 &  44103 &  38734 &  35881 &  34498 &  33018 &  33127 &  32993 &  32248 &  33202 &  38646 &  39774 &  44829\\\\\n",
       "\t4 & Cavan  & 243094 & 173989 & 153870 & 140735 & 129476 & 111917 &  97451 &  91173 &  82452 &  76670 &  66377 &  56594 &  49345 &  53855 &  52796 &  56546\\\\\n",
       "\t5 & Clare  & 285456 & 211865 & 165884 & 147779 & 141379 & 124425 & 110658 & 102604 &  93685 &  88642 &  80264 &  72753 &  74104 &  86547 &  89864 & 102109\\\\\n",
       "\t6 & Cork   & 851528 & 647088 & 542486 & 515804 & 494312 & 437216 & 405517 & 392951 & 364906 & 355253 & 340784 & 330018 & 352534 & 402162 & 410073 & 447483\\\\\n",
       "\\end{tabular}\n"
      ],
      "text/markdown": [
       "\n",
       "A data.frame: 6 × 17\n",
       "\n",
       "| <!--/--> | county &lt;chr&gt; | 1841 &lt;int&gt; | 1851 &lt;int&gt; | 1861 &lt;int&gt; | 1871 &lt;int&gt; | 1881 &lt;int&gt; | 1891 &lt;int&gt; | 1901 &lt;int&gt; | 1911 &lt;int&gt; | 1926 &lt;int&gt; | 1936 &lt;int&gt; | 1951 &lt;int&gt; | 1961 &lt;int&gt; | 1971 &lt;int&gt; | 1981 &lt;int&gt; | 1991 &lt;int&gt; | 2001 &lt;int&gt; |\n",
       "|---|---|---|---|---|---|---|---|---|---|---|---|---|---|---|---|---|---|\n",
       "| 1 | Antrim | 361428 | 360498 | 372008 | 398624 | 413178 | 416143 | 543329 | 578704 | 608258 | 635692 | 661693 | 677512 | 663051 | 579750 | 591404 | 617462 |\n",
       "| 2 | Armagh | 227190 | 189091 | 184138 | 171142 | 154515 | 135444 | 123018 | 117783 | 105693 | 102646 | 108739 | 111701 | 125461 | 127607 | 136469 | 144178 |\n",
       "| 3 | Carlow |  81658 |  65222 |  54610 |  49012 |  44103 |  38734 |  35881 |  34498 |  33018 |  33127 |  32993 |  32248 |  33202 |  38646 |  39774 |  44829 |\n",
       "| 4 | Cavan  | 243094 | 173989 | 153870 | 140735 | 129476 | 111917 |  97451 |  91173 |  82452 |  76670 |  66377 |  56594 |  49345 |  53855 |  52796 |  56546 |\n",
       "| 5 | Clare  | 285456 | 211865 | 165884 | 147779 | 141379 | 124425 | 110658 | 102604 |  93685 |  88642 |  80264 |  72753 |  74104 |  86547 |  89864 | 102109 |\n",
       "| 6 | Cork   | 851528 | 647088 | 542486 | 515804 | 494312 | 437216 | 405517 | 392951 | 364906 | 355253 | 340784 | 330018 | 352534 | 402162 | 410073 | 447483 |\n",
       "\n"
      ],
      "text/plain": [
       "  county 1841   1851   1861   1871   1881   1891   1901   1911   1926   1936  \n",
       "1 Antrim 361428 360498 372008 398624 413178 416143 543329 578704 608258 635692\n",
       "2 Armagh 227190 189091 184138 171142 154515 135444 123018 117783 105693 102646\n",
       "3 Carlow  81658  65222  54610  49012  44103  38734  35881  34498  33018  33127\n",
       "4 Cavan  243094 173989 153870 140735 129476 111917  97451  91173  82452  76670\n",
       "5 Clare  285456 211865 165884 147779 141379 124425 110658 102604  93685  88642\n",
       "6 Cork   851528 647088 542486 515804 494312 437216 405517 392951 364906 355253\n",
       "  1951   1961   1971   1981   1991   2001  \n",
       "1 661693 677512 663051 579750 591404 617462\n",
       "2 108739 111701 125461 127607 136469 144178\n",
       "3  32993  32248  33202  38646  39774  44829\n",
       "4  66377  56594  49345  53855  52796  56546\n",
       "5  80264  72753  74104  86547  89864 102109\n",
       "6 340784 330018 352534 402162 410073 447483"
      ]
     },
     "metadata": {},
     "output_type": "display_data"
    }
   ],
   "source": [
    "head(Pop)"
   ]
  },
  {
   "cell_type": "code",
   "execution_count": 8,
   "id": "34c2c7ad-cae0-4b14-875a-872f140416bb",
   "metadata": {},
   "outputs": [
    {
     "data": {
      "image/png": "[encoded data removed]",
      "text/plain": [
       "plot without title"
      ]
     },
     "metadata": {
      "image/png": {
       "height": 480,
       "width": 720
      }
     },
     "output_type": "display_data"
    }
   ],
   "source": [
    "library(ggplot2)\n",
    "library(dplyr)\n",
    "library(tidyr)\n",
    "\n",
    "# Assuming Pop is your data frame\n",
    "# Convert the data to long format for ggplot2\n",
    "long_data <- gather(data = Pop, key = \"Year\", value = \"Population\", -county)\n",
    "\n",
    "# Convert 'Year' and 'Population' to numeric\n",
    "long_data$Year <- as.numeric(long_data$Year)\n",
    "long_data$Population <- as.numeric(long_data$Population)\n",
    "\n",
    "# Calculate the average population for each county\n",
    "avg_population <- long_data %>%\n",
    "  group_by(county) %>%\n",
    "  summarize(AvgPopulation = mean(Population, na.rm = TRUE)) %>%\n",
    "  arrange(desc(AvgPopulation))  # Arrange in descending order\n",
    "\n",
    "# Select the top 10 counties based on average population\n",
    "top_10_counties <- head(avg_population$county, 10)\n",
    "\n",
    "# Filter the data to include only the top 10 counties\n",
    "filtered_data <- long_data %>%\n",
    "  filter(county %in% top_10_counties)\n",
    "\n",
    "# Plotting using ggplot2 with manual y-axis label formatting\n",
    "options(repr.plot.width=12, repr.plot.height=8)  # Adjust the size of the plot within the Jupyter notebook\n",
    "ggplot(filtered_data, aes(x = Year, y = Population, color = county, group = county), width = 10) +\n",
    "  geom_line(aes(linetype = ifelse(county == \"Dublin\", \"Dublin\", \"Others\")), linewidth = 1.5) +\n",
    "  labs(title = \"Population of Top 10 Counties (Based on Average Population) Over the Years\",\n",
    "       x = \"Year\",\n",
    "       y = \"Population\",\n",
    "       color = \"County\",\n",
    "       linetype = \"County\") +\n",
    "  scale_y_continuous(labels = scales::comma_format()) +  # Format y-axis labels without scientific notation\n",
    "  scale_linetype_manual(values = c(\"Dublin\" = \"solid\", \"Others\" = \"dashed\")) +\n",
    "  theme_minimal() +\n",
    "  theme(legend.key.size = unit(1, \"cm\"))  # Adjust the size of the legend key\n"
   ]
  },
  {
   "cell_type": "code",
   "execution_count": null,
   "id": "62361958-e8b5-4cbf-9ec0-d5045fab206a",
   "metadata": {},
   "outputs": [],
   "source": []
  },
  {
   "cell_type": "code",
   "execution_count": null,
   "id": "30acb855-4888-47eb-8c11-274dc3458f19",
   "metadata": {},
   "outputs": [],
   "source": []
  }
 ],
 "metadata": {
  "kernelspec": {
   "display_name": "R",
   "language": "R",
   "name": "ir"
  },
  "language_info": {
   "codemirror_mode": "r",
   "file_extension": ".r",
   "mimetype": "text/x-r-source",
   "name": "R",
   "pygments_lexer": "r",
   "version": "4.3.2"
  }
 },
 "nbformat": 4,
 "nbformat_minor": 5
}
