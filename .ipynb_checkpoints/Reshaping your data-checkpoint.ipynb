{
 "cells": [
  {
   "cell_type": "markdown",
   "id": "e65cc2a1",
   "metadata": {},
   "source": [
    "# Reshaping your data"
   ]
  },
  {
   "cell_type": "markdown",
   "id": "be448150",
   "metadata": {},
   "source": [
    "To get average monthly Avocado prices across the US  regions, the hass dataset from the avocado library has been used.  This requires a bit of data manipulation before it is ready to use."
   ]
  },
  {
   "cell_type": "markdown",
   "id": "91ee44b9",
   "metadata": {},
   "source": [
    "In this notebook, we will:\n",
    "- download a dataset (hass)\n",
    "- subset the columns and rename them.\n",
    "- reformat the date as year-mon\n",
    "- average the values for each region and yearmon, removing any null regions\n",
    "- filter the rows to keep only the regions trading in the highest number of avocados.\n",
    "- draw a line chart for one region.\n",
    "- draw a line chart for the kept regions."
   ]
  },
  {
   "cell_type": "code",
   "execution_count": 1,
   "id": "14653e00",
   "metadata": {},
   "outputs": [
    {
     "name": "stderr",
     "output_type": "stream",
     "text": [
      "── \u001b[1mAttaching packages\u001b[22m ─────────────────────────────────────────────────────────────────────────────── tidyverse 1.3.2 ──\n",
      "\u001b[32m✔\u001b[39m \u001b[34mggplot2\u001b[39m 3.4.0      \u001b[32m✔\u001b[39m \u001b[34mpurrr  \u001b[39m 0.3.5 \n",
      "\u001b[32m✔\u001b[39m \u001b[34mtibble \u001b[39m 3.1.8      \u001b[32m✔\u001b[39m \u001b[34mdplyr  \u001b[39m 1.0.10\n",
      "\u001b[32m✔\u001b[39m \u001b[34mtidyr  \u001b[39m 1.2.1      \u001b[32m✔\u001b[39m \u001b[34mstringr\u001b[39m 1.5.0 \n",
      "\u001b[32m✔\u001b[39m \u001b[34mreadr  \u001b[39m 2.1.3      \u001b[32m✔\u001b[39m \u001b[34mforcats\u001b[39m 0.5.2 \n",
      "── \u001b[1mConflicts\u001b[22m ────────────────────────────────────────────────────────────────────────────────── tidyverse_conflicts() ──\n",
      "\u001b[31m✖\u001b[39m \u001b[34mdplyr\u001b[39m::\u001b[32mfilter()\u001b[39m masks \u001b[34mstats\u001b[39m::filter()\n",
      "\u001b[31m✖\u001b[39m \u001b[34mdplyr\u001b[39m::\u001b[32mlag()\u001b[39m    masks \u001b[34mstats\u001b[39m::lag()\n",
      "\n",
      "Attaching package: 'zoo'\n",
      "\n",
      "\n",
      "The following objects are masked from 'package:base':\n",
      "\n",
      "    as.Date, as.Date.numeric\n",
      "\n",
      "\n"
     ]
    }
   ],
   "source": [
    "library(tidyverse)\n",
    "#install.packages(\"avocado\")\n",
    "library(avocado)\n",
    "#library(zoo)\n",
    "library(zoo)"
   ]
  },
  {
   "cell_type": "markdown",
   "id": "c2f6567d",
   "metadata": {},
   "source": [
    "First we'll look at the data we have. "
   ]
  },
  {
   "cell_type": "code",
   "execution_count": 2,
   "id": "4b574262",
   "metadata": {},
   "outputs": [
    {
     "name": "stdout",
     "output_type": "stream",
     "text": [
      "tibble [8,865 × 17] (S3: tbl_df/tbl/data.frame)\n",
      " $ week_ending      : POSIXct[1:8865], format: \"2017-01-02\" \"2017-01-02\" ...\n",
      " $ location         : chr [1:8865] \"Albany\" \"Atlanta\" \"Baltimore/Washington\" \"Boise\" ...\n",
      " $ region           : chr [1:8865] \"Northeast\" \"Southeast\" \"Midsouth\" \"West\" ...\n",
      " $ avg_price_nonorg : num [1:8865] 1.47 0.93 1.47 0.92 1.29 1.43 1.21 1.15 0.64 0.83 ...\n",
      " $ plu4046          : num [1:8865] 4846 224074 54530 27845 4120 ...\n",
      " $ plu4225          : num [1:8865] 117027 118926 408952 9409 371223 ...\n",
      " $ plu4770          : num [1:8865] 200 337 14387 11342 3934 ...\n",
      " $ small_nonorg_bag : num [1:8865] 7867 111600 151346 53093 79340 ...\n",
      " $ large_nonorg_bag : num [1:8865] 7.83 92628.91 2542.41 2793.61 213.75 ...\n",
      " $ xlarge_nonorg_bag: num [1:8865] 0 0 3.12 27.2 0 ...\n",
      " $ avg_price_org    : num [1:8865] 1.87 1.81 1.92 1.05 2.06 1.64 1.7 1.34 1.23 1.58 ...\n",
      " $ plu94046         : num [1:8865] 71.7 956.7 1420.5 0 14.8 ...\n",
      " $ plu94225         : num [1:8865] 193 2863 6298 369 2182 ...\n",
      " $ plu94770         : num [1:8865] 0 0 325 0 0 ...\n",
      " $ small_org_bag    : num [1:8865] 1112.42 5.55 5857.48 577.91 10636.25 ...\n",
      " $ large_org_bag    : num [1:8865] 0 1518 0 1877 606 ...\n",
      " $ xlarge_org_bag   : num [1:8865] 0 0 0 0 0 0 0 0 0 0 ...\n"
     ]
    }
   ],
   "source": [
    "str(hass)"
   ]
  },
  {
   "cell_type": "markdown",
   "id": "b73b0120",
   "metadata": {},
   "source": [
    "I only want the region, average price (org) and month.  We only have week_ending.  I'll take them in and rename them."
   ]
  },
  {
   "cell_type": "code",
   "execution_count": 3,
   "id": "ef96207d",
   "metadata": {},
   "outputs": [],
   "source": [
    "avocado_data<-\n",
    "hass %>%\n",
    " select(week_ending, region, avg_price_org)\n",
    "colnames(avocado_data)<-c('Date','region','AveragePrice')"
   ]
  },
  {
   "cell_type": "markdown",
   "id": "81bdeadd",
   "metadata": {},
   "source": [
    "I want the month and year, so I'll need to reformat the date and average that out.  I'll also drop rows where the region is null."
   ]
  },
  {
   "cell_type": "code",
   "execution_count": 4,
   "id": "6f0e6026",
   "metadata": {},
   "outputs": [
    {
     "name": "stdout",
     "output_type": "stream",
     "text": [
      "tibble [8,865 × 3] (S3: tbl_df/tbl/data.frame)\n",
      " $ Date        : POSIXct[1:8865], format: \"2017-01-02\" \"2017-01-02\" ...\n",
      " $ region      : chr [1:8865] \"Northeast\" \"Southeast\" \"Midsouth\" \"West\" ...\n",
      " $ AveragePrice: num [1:8865] 1.87 1.81 1.92 1.05 2.06 1.64 1.7 1.34 1.23 1.58 ...\n"
     ]
    }
   ],
   "source": [
    "str(avocado_data)"
   ]
  },
  {
   "cell_type": "code",
   "execution_count": 5,
   "id": "541c236a",
   "metadata": {},
   "outputs": [],
   "source": [
    "avocado_data$Yearmon <- as.yearmon(avocado_data$Date)"
   ]
  },
  {
   "cell_type": "code",
   "execution_count": 6,
   "id": "d3e0d73f",
   "metadata": {},
   "outputs": [
    {
     "name": "stdout",
     "output_type": "stream",
     "text": [
      "gropd_df [376 × 3] (S3: grouped_df/tbl_df/tbl/data.frame)\n",
      " $ region      : chr [1:376] \"California\" \"California\" \"California\" \"California\" ...\n",
      " $ Yearmon     : 'yearmon' num [1:376] Jan 2017 Feb 2017 Mar 2017 Apr 2017 ...\n",
      " $ AveragePrice: num [1:376] 1.84 1.76 1.55 1.76 1.93 ...\n",
      " - attr(*, \"groups\")= tibble [8 × 2] (S3: tbl_df/tbl/data.frame)\n",
      "  ..$ region: chr [1:8] \"California\" \"Great Lakes\" \"Midsouth\" \"Northeast\" ...\n",
      "  ..$ .rows : list<int> [1:8] \n",
      "  .. ..$ : int [1:47] 1 2 3 4 5 6 7 8 9 10 ...\n",
      "  .. ..$ : int [1:47] 48 49 50 51 52 53 54 55 56 57 ...\n",
      "  .. ..$ : int [1:47] 95 96 97 98 99 100 101 102 103 104 ...\n",
      "  .. ..$ : int [1:47] 142 143 144 145 146 147 148 149 150 151 ...\n",
      "  .. ..$ : int [1:47] 189 190 191 192 193 194 195 196 197 198 ...\n",
      "  .. ..$ : int [1:47] 236 237 238 239 240 241 242 243 244 245 ...\n",
      "  .. ..$ : int [1:47] 283 284 285 286 287 288 289 290 291 292 ...\n",
      "  .. ..$ : int [1:47] 330 331 332 333 334 335 336 337 338 339 ...\n",
      "  .. ..@ ptype: int(0) \n",
      "  ..- attr(*, \".drop\")= logi TRUE\n"
     ]
    }
   ],
   "source": [
    " avocado_data <-\n",
    " avocado_data%>%\n",
    "    group_by(region, Yearmon) %>%\n",
    "    summarize_at(vars(AveragePrice), list(AveragePrice=mean)) %>%\n",
    "    filter(!is.na(region))\n",
    "\n",
    "str(avocado_data)"
   ]
  },
  {
   "cell_type": "markdown",
   "id": "f669eb90",
   "metadata": {},
   "source": [
    " I have too many regions.  I only want the ones that deal in a lot of Avocados."
   ]
  },
  {
   "cell_type": "code",
   "execution_count": 7,
   "id": "15e9a386",
   "metadata": {},
   "outputs": [
    {
     "data": {
      "text/html": [
       "<style>\n",
       ".list-inline {list-style: none; margin:0; padding: 0}\n",
       ".list-inline>li {display: inline-block}\n",
       ".list-inline>li:not(:last-child)::after {content: \"\\00b7\"; padding: 0 .5ex}\n",
       "</style>\n",
       "<ol class=list-inline><li>'California'</li><li>'Great Lakes'</li><li>'Midsouth'</li><li>'Northeast'</li><li>'Plains'</li><li>'South Central'</li><li>'Southeast'</li><li>'West'</li></ol>\n"
      ],
      "text/latex": [
       "\\begin{enumerate*}\n",
       "\\item 'California'\n",
       "\\item 'Great Lakes'\n",
       "\\item 'Midsouth'\n",
       "\\item 'Northeast'\n",
       "\\item 'Plains'\n",
       "\\item 'South Central'\n",
       "\\item 'Southeast'\n",
       "\\item 'West'\n",
       "\\end{enumerate*}\n"
      ],
      "text/markdown": [
       "1. 'California'\n",
       "2. 'Great Lakes'\n",
       "3. 'Midsouth'\n",
       "4. 'Northeast'\n",
       "5. 'Plains'\n",
       "6. 'South Central'\n",
       "7. 'Southeast'\n",
       "8. 'West'\n",
       "\n",
       "\n"
      ],
      "text/plain": [
       "[1] \"California\"    \"Great Lakes\"   \"Midsouth\"      \"Northeast\"    \n",
       "[5] \"Plains\"        \"South Central\" \"Southeast\"     \"West\"         "
      ]
     },
     "metadata": {},
     "output_type": "display_data"
    }
   ],
   "source": [
    "unique(avocado_data$region)"
   ]
  },
  {
   "cell_type": "code",
   "execution_count": 8,
   "id": "06956eb4",
   "metadata": {},
   "outputs": [
    {
     "data": {
      "text/html": [
       "<table class=\"dataframe\">\n",
       "<caption>A grouped_df: 6 × 3</caption>\n",
       "<thead>\n",
       "\t<tr><th scope=col>region</th><th scope=col>Yearmon</th><th scope=col>AveragePrice</th></tr>\n",
       "\t<tr><th scope=col>&lt;chr&gt;</th><th scope=col>&lt;yearmon&gt;</th><th scope=col>&lt;dbl&gt;</th></tr>\n",
       "</thead>\n",
       "<tbody>\n",
       "\t<tr><td>California</td><td>Jan 2017</td><td>1.840500</td></tr>\n",
       "\t<tr><td>California</td><td>Feb 2017</td><td>1.760000</td></tr>\n",
       "\t<tr><td>California</td><td>Mar 2017</td><td>1.555000</td></tr>\n",
       "\t<tr><td>California</td><td>Apr 2017</td><td>1.758500</td></tr>\n",
       "\t<tr><td>California</td><td>May 2017</td><td>1.934375</td></tr>\n",
       "\t<tr><td>California</td><td>Jun 2017</td><td>1.917500</td></tr>\n",
       "</tbody>\n",
       "</table>\n"
      ],
      "text/latex": [
       "A grouped\\_df: 6 × 3\n",
       "\\begin{tabular}{lll}\n",
       " region & Yearmon & AveragePrice\\\\\n",
       " <chr> & <yearmon> & <dbl>\\\\\n",
       "\\hline\n",
       "\t California & Jan 2017 & 1.840500\\\\\n",
       "\t California & Feb 2017 & 1.760000\\\\\n",
       "\t California & Mar 2017 & 1.555000\\\\\n",
       "\t California & Apr 2017 & 1.758500\\\\\n",
       "\t California & May 2017 & 1.934375\\\\\n",
       "\t California & Jun 2017 & 1.917500\\\\\n",
       "\\end{tabular}\n"
      ],
      "text/markdown": [
       "\n",
       "A grouped_df: 6 × 3\n",
       "\n",
       "| region &lt;chr&gt; | Yearmon &lt;yearmon&gt; | AveragePrice &lt;dbl&gt; |\n",
       "|---|---|---|\n",
       "| California | Jan 2017 | 1.840500 |\n",
       "| California | Feb 2017 | 1.760000 |\n",
       "| California | Mar 2017 | 1.555000 |\n",
       "| California | Apr 2017 | 1.758500 |\n",
       "| California | May 2017 | 1.934375 |\n",
       "| California | Jun 2017 | 1.917500 |\n",
       "\n"
      ],
      "text/plain": [
       "  region     Yearmon  AveragePrice\n",
       "1 California Jan 2017 1.840500    \n",
       "2 California Feb 2017 1.760000    \n",
       "3 California Mar 2017 1.555000    \n",
       "4 California Apr 2017 1.758500    \n",
       "5 California May 2017 1.934375    \n",
       "6 California Jun 2017 1.917500    "
      ]
     },
     "metadata": {},
     "output_type": "display_data"
    }
   ],
   "source": [
    "head(avocado_data)"
   ]
  },
  {
   "cell_type": "code",
   "execution_count": 9,
   "id": "5d3c91d7",
   "metadata": {},
   "outputs": [
    {
     "data": {
      "text/html": [
       "<table class=\"dataframe\">\n",
       "<caption>A grouped_df: 6 × 3</caption>\n",
       "<thead>\n",
       "\t<tr><th scope=col>region</th><th scope=col>Yearmon</th><th scope=col>AveragePrice</th></tr>\n",
       "\t<tr><th scope=col>&lt;chr&gt;</th><th scope=col>&lt;yearmon&gt;</th><th scope=col>&lt;dbl&gt;</th></tr>\n",
       "</thead>\n",
       "<tbody>\n",
       "\t<tr><td>California</td><td>Jan 2017</td><td>1.840500</td></tr>\n",
       "\t<tr><td>California</td><td>Feb 2017</td><td>1.760000</td></tr>\n",
       "\t<tr><td>California</td><td>Mar 2017</td><td>1.555000</td></tr>\n",
       "\t<tr><td>California</td><td>Apr 2017</td><td>1.758500</td></tr>\n",
       "\t<tr><td>California</td><td>May 2017</td><td>1.934375</td></tr>\n",
       "\t<tr><td>California</td><td>Jun 2017</td><td>1.917500</td></tr>\n",
       "</tbody>\n",
       "</table>\n"
      ],
      "text/latex": [
       "A grouped\\_df: 6 × 3\n",
       "\\begin{tabular}{lll}\n",
       " region & Yearmon & AveragePrice\\\\\n",
       " <chr> & <yearmon> & <dbl>\\\\\n",
       "\\hline\n",
       "\t California & Jan 2017 & 1.840500\\\\\n",
       "\t California & Feb 2017 & 1.760000\\\\\n",
       "\t California & Mar 2017 & 1.555000\\\\\n",
       "\t California & Apr 2017 & 1.758500\\\\\n",
       "\t California & May 2017 & 1.934375\\\\\n",
       "\t California & Jun 2017 & 1.917500\\\\\n",
       "\\end{tabular}\n"
      ],
      "text/markdown": [
       "\n",
       "A grouped_df: 6 × 3\n",
       "\n",
       "| region &lt;chr&gt; | Yearmon &lt;yearmon&gt; | AveragePrice &lt;dbl&gt; |\n",
       "|---|---|---|\n",
       "| California | Jan 2017 | 1.840500 |\n",
       "| California | Feb 2017 | 1.760000 |\n",
       "| California | Mar 2017 | 1.555000 |\n",
       "| California | Apr 2017 | 1.758500 |\n",
       "| California | May 2017 | 1.934375 |\n",
       "| California | Jun 2017 | 1.917500 |\n",
       "\n"
      ],
      "text/plain": [
       "  region     Yearmon  AveragePrice\n",
       "1 California Jan 2017 1.840500    \n",
       "2 California Feb 2017 1.760000    \n",
       "3 California Mar 2017 1.555000    \n",
       "4 California Apr 2017 1.758500    \n",
       "5 California May 2017 1.934375    \n",
       "6 California Jun 2017 1.917500    "
      ]
     },
     "metadata": {},
     "output_type": "display_data"
    },
    {
     "data": {
      "text/html": [
       "<table class=\"dataframe\">\n",
       "<caption>A grouped_df: 6 × 3</caption>\n",
       "<thead>\n",
       "\t<tr><th scope=col>region</th><th scope=col>Yearmon</th><th scope=col>AveragePrice</th></tr>\n",
       "\t<tr><th scope=col>&lt;chr&gt;</th><th scope=col>&lt;yearmon&gt;</th><th scope=col>&lt;dbl&gt;</th></tr>\n",
       "</thead>\n",
       "<tbody>\n",
       "\t<tr><td>West</td><td>Jun 2020</td><td>1.637188</td></tr>\n",
       "\t<tr><td>West</td><td>Jul 2020</td><td>1.618125</td></tr>\n",
       "\t<tr><td>West</td><td>Aug 2020</td><td>1.569750</td></tr>\n",
       "\t<tr><td>West</td><td>Sep 2020</td><td>1.585000</td></tr>\n",
       "\t<tr><td>West</td><td>Oct 2020</td><td>1.531250</td></tr>\n",
       "\t<tr><td>West</td><td>Nov 2020</td><td>1.456250</td></tr>\n",
       "</tbody>\n",
       "</table>\n"
      ],
      "text/latex": [
       "A grouped\\_df: 6 × 3\n",
       "\\begin{tabular}{lll}\n",
       " region & Yearmon & AveragePrice\\\\\n",
       " <chr> & <yearmon> & <dbl>\\\\\n",
       "\\hline\n",
       "\t West & Jun 2020 & 1.637188\\\\\n",
       "\t West & Jul 2020 & 1.618125\\\\\n",
       "\t West & Aug 2020 & 1.569750\\\\\n",
       "\t West & Sep 2020 & 1.585000\\\\\n",
       "\t West & Oct 2020 & 1.531250\\\\\n",
       "\t West & Nov 2020 & 1.456250\\\\\n",
       "\\end{tabular}\n"
      ],
      "text/markdown": [
       "\n",
       "A grouped_df: 6 × 3\n",
       "\n",
       "| region &lt;chr&gt; | Yearmon &lt;yearmon&gt; | AveragePrice &lt;dbl&gt; |\n",
       "|---|---|---|\n",
       "| West | Jun 2020 | 1.637188 |\n",
       "| West | Jul 2020 | 1.618125 |\n",
       "| West | Aug 2020 | 1.569750 |\n",
       "| West | Sep 2020 | 1.585000 |\n",
       "| West | Oct 2020 | 1.531250 |\n",
       "| West | Nov 2020 | 1.456250 |\n",
       "\n"
      ],
      "text/plain": [
       "  region Yearmon  AveragePrice\n",
       "1 West   Jun 2020 1.637188    \n",
       "2 West   Jul 2020 1.618125    \n",
       "3 West   Aug 2020 1.569750    \n",
       "4 West   Sep 2020 1.585000    \n",
       "5 West   Oct 2020 1.531250    \n",
       "6 West   Nov 2020 1.456250    "
      ]
     },
     "metadata": {},
     "output_type": "display_data"
    }
   ],
   "source": [
    "keeplist <- avocado_data %>%\n",
    "    group_by(region) %>%\n",
    "    summarize_at(vars(AveragePrice), list(AvgPrice=mean)) %>%\n",
    "    filter(AvgPrice >1.5) %>%\n",
    "    select (region)\n",
    "\n",
    "avocado_data <- avocado_data[avocado_data$region %in% keeplist$region,]\n",
    "head(avocado_data)\n",
    "tail(avocado_data)\n"
   ]
  },
  {
   "cell_type": "code",
   "execution_count": 10,
   "id": "d75c66ce",
   "metadata": {},
   "outputs": [],
   "source": [
    "df <- as.data.frame(avocado_data)\n"
   ]
  },
  {
   "cell_type": "code",
   "execution_count": 11,
   "id": "174d97f8",
   "metadata": {},
   "outputs": [
    {
     "data": {
      "text/html": [
       "<style>\n",
       ".list-inline {list-style: none; margin:0; padding: 0}\n",
       ".list-inline>li {display: inline-block}\n",
       ".list-inline>li:not(:last-child)::after {content: \"\\00b7\"; padding: 0 .5ex}\n",
       "</style>\n",
       "<ol class=list-inline><li>'region'</li><li>'Yearmon'</li><li>'AveragePrice'</li></ol>\n"
      ],
      "text/latex": [
       "\\begin{enumerate*}\n",
       "\\item 'region'\n",
       "\\item 'Yearmon'\n",
       "\\item 'AveragePrice'\n",
       "\\end{enumerate*}\n"
      ],
      "text/markdown": [
       "1. 'region'\n",
       "2. 'Yearmon'\n",
       "3. 'AveragePrice'\n",
       "\n",
       "\n"
      ],
      "text/plain": [
       "[1] \"region\"       \"Yearmon\"      \"AveragePrice\""
      ]
     },
     "metadata": {},
     "output_type": "display_data"
    }
   ],
   "source": [
    "colnames(df)"
   ]
  },
  {
   "cell_type": "code",
   "execution_count": 12,
   "id": "f715e444",
   "metadata": {},
   "outputs": [
    {
     "name": "stdout",
     "output_type": "stream",
     "text": [
      "'data.frame':\t235 obs. of  3 variables:\n",
      " $ region      : chr  \"California\" \"California\" \"California\" \"California\" ...\n",
      " $ Yearmon     : 'yearmon' num  Jan 2017 Feb 2017 Mar 2017 Apr 2017 ...\n",
      " $ AveragePrice: num  1.84 1.76 1.55 1.76 1.93 ...\n"
     ]
    }
   ],
   "source": [
    "str(df)"
   ]
  },
  {
   "cell_type": "code",
   "execution_count": 13,
   "id": "fea7a4cf",
   "metadata": {},
   "outputs": [
    {
     "data": {
      "image/png": "[encoded data removed]",
      "text/plain": [
       "plot without title"
      ]
     },
     "metadata": {
      "image/png": {
       "height": 420,
       "width": 420
      }
     },
     "output_type": "display_data"
    }
   ],
   "source": [
    "df[df$region=='California',] %>%\n",
    "ggplot(aes(x=Yearmon,y=AveragePrice,color=region, group=region)) +\n",
    "geom_line() +\n",
    "labs(title=\"Average Avocado Prices in the US over time\",\n",
    "    subtitle=\"How do Avocado prices differ by region?\",\n",
    "    x=\"Date\",\n",
    "    y=\"Average Price\",\n",
    "    color=\"Region\")"
   ]
  },
  {
   "cell_type": "code",
   "execution_count": 14,
   "id": "6d80850d",
   "metadata": {},
   "outputs": [
    {
     "data": {
      "image/png": "[encoded data removed]",
      "text/plain": [
       "plot without title"
      ]
     },
     "metadata": {
      "image/png": {
       "height": 420,
       "width": 420
      }
     },
     "output_type": "display_data"
    }
   ],
   "source": [
    "df %>%\n",
    "ggplot(aes(x=Yearmon,y=AveragePrice,color=region)) +\n",
    "geom_line() +\n",
    "labs(title=\"Average Avocado Prices in the US over time\",\n",
    "    subtitle=\"How do Avocado prices differ by region?\",\n",
    "    x=\"Date\",\n",
    "    y=\"Average Price\",\n",
    "    color=\"Region\")"
   ]
  },
  {
   "cell_type": "code",
   "execution_count": null,
   "id": "eb3d072a",
   "metadata": {},
   "outputs": [],
   "source": []
  }
 ],
 "metadata": {
  "kernelspec": {
   "display_name": "R",
   "language": "R",
   "name": "ir"
  },
  "language_info": {
   "codemirror_mode": "r",
   "file_extension": ".r",
   "mimetype": "text/x-r-source",
   "name": "R",
   "pygments_lexer": "r",
   "version": "4.2.2"
  }
 },
 "nbformat": 4,
 "nbformat_minor": 5
}
