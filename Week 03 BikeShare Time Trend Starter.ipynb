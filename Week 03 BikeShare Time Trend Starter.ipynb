{
 "cells": [
  {
   "cell_type": "markdown",
   "metadata": {},
   "source": [
    "# Visualising time trends\n",
    "The objectives of this exercise are as follows:\n",
    "\n",
    "<ol>\n",
    " <li>\tPlan - This is time trend data.  Make sure that you have the following variables:\n",
    "     <ol>\n",
    "         <li>Time variable is on the x-axis. </li>\n",
    "         <li>A continuous numeric variable should be on the y-axis. </li>\n",
    "         <li>Categorical variable(s) you want to show. </li>\n",
    "     </ol>\n",
    " </li>\n",
    "  <li> Tidy\n",
    "     <ol>\n",
    "         <li>Put the time (1A) into the format you need.  You can have two columns with the same values, in different formats, if you need.</li>\n",
    "         <li>Eliminate any rows that don't have date data, ensuring that you've checked the original dataset and it is not a result of reformatting.</li>\n",
    "         <li>Subset and rename (if required) columns from the dataset that you want to use.</li>\n",
    "         <li>Provide readable values that you might need for any legend (e.g. maxtp in example in week 3).</li>\n",
    "     </ol>\n",
    " </li> \n",
    "  <li>Reshape, beautify and plot\n",
    "     <ol>\n",
    "         <li>Plot a bar chart with the x-axis as the time / date (1A) and the y-axis as the continuous variable (1B).  Enhance it, saving  the theme, labels and x- and y- axis scaling as variables that can be added to the plot.</li>\n",
    "         <li>Plot a stacked bar chart, using the information in 3A, and introducing the categorical variable (1C).  Enhance it by adding the saved theme, labels and scaling variables.</li>\n",
    "         <li>Plot a scatter plot with the data from 3A (you may change formats, but the same data should be used).  Enhance it by adding the saved theme, labels and scaling variables, if appropriate.</li>\n",
    "         <li>Add the categorical variable to your scatter plot (i.e. same info as 3B). </li>\n",
    "         <li>Using a single value of the categorical variable (1C), plot a line chart.</li>\n",
    "         <li>Using all values of the categorical variable (1C), plot a stacked line chart.</li>\n",
    "         <li>Plot small multiples, using 1A on the x-axis and 1B on the y-axis.  You may choose your row and column values and the type of chart you want to generate.</li>\n",
    "      </ol>\n",
    "   </li>\n",
    "   <li>Evaluate the charts you have plotted, saying which is more effective, and why you think so. </li>\n",
    "\n",
    "</ol>"
   ]
  },
  {
   "cell_type": "markdown",
   "metadata": {},
   "source": [
    "## Step by step"
   ]
  },
  {
   "cell_type": "markdown",
   "metadata": {},
   "source": [
    "### Load the libraries\n",
    " - tidyverse provides ggplot and some of the tidying libraries."
   ]
  },
  {
   "cell_type": "code",
   "execution_count": 1,
   "metadata": {},
   "outputs": [
    {
     "name": "stderr",
     "output_type": "stream",
     "text": [
      "── \u001b[1mAttaching core tidyverse packages\u001b[22m ──────────────────────────────────────────────────────────────── tidyverse 2.0.0 ──\n",
      "\u001b[32m✔\u001b[39m \u001b[34mdplyr    \u001b[39m 1.1.1     \u001b[32m✔\u001b[39m \u001b[34mreadr    \u001b[39m 2.1.4\n",
      "\u001b[32m✔\u001b[39m \u001b[34mforcats  \u001b[39m 1.0.0     \u001b[32m✔\u001b[39m \u001b[34mstringr  \u001b[39m 1.5.1\n",
      "\u001b[32m✔\u001b[39m \u001b[34mggplot2  \u001b[39m 3.4.2     \u001b[32m✔\u001b[39m \u001b[34mtibble   \u001b[39m 3.2.1\n",
      "\u001b[32m✔\u001b[39m \u001b[34mlubridate\u001b[39m 1.9.2     \u001b[32m✔\u001b[39m \u001b[34mtidyr    \u001b[39m 1.3.0\n",
      "\u001b[32m✔\u001b[39m \u001b[34mpurrr    \u001b[39m 1.0.1     \n",
      "── \u001b[1mConflicts\u001b[22m ────────────────────────────────────────────────────────────────────────────────── tidyverse_conflicts() ──\n",
      "\u001b[31m✖\u001b[39m \u001b[34mdplyr\u001b[39m::\u001b[32mfilter()\u001b[39m masks \u001b[34mstats\u001b[39m::filter()\n",
      "\u001b[31m✖\u001b[39m \u001b[34mdplyr\u001b[39m::\u001b[32mlag()\u001b[39m    masks \u001b[34mstats\u001b[39m::lag()\n",
      "\u001b[36mℹ\u001b[39m Use the conflicted package (\u001b[3m\u001b[34m<http://conflicted.r-lib.org/>\u001b[39m\u001b[23m) to force all conflicts to become errors\n"
     ]
    }
   ],
   "source": [
    "library(tidyverse)"
   ]
  },
  {
   "cell_type": "markdown",
   "metadata": {},
   "source": [
    "## Load the Bike Share dataset"
   ]
  },
  {
   "cell_type": "markdown",
   "metadata": {},
   "source": [
    "Capital Bikeshare 2011 - 2012\n",
    "\n",
    " Data being used here is from https://data.world/data-society/capital-bikeshare-2011-2012\n",
    " "
   ]
  },
  {
   "cell_type": "code",
   "execution_count": 1,
   "metadata": {},
   "outputs": [
    {
     "data": {
      "text/html": [
       "<table class=\"dataframe\">\n",
       "<caption>A data.frame: 6 × 14</caption>\n",
       "<thead>\n",
       "\t<tr><th></th><th scope=col>Date</th><th scope=col>Season</th><th scope=col>Hour</th><th scope=col>Holiday</th><th scope=col>Day.of.the.Week</th><th scope=col>Working.Day</th><th scope=col>Weather.Type</th><th scope=col>Temperature.F</th><th scope=col>Temperature.Feels.F</th><th scope=col>Humidity</th><th scope=col>Wind.Speed</th><th scope=col>Casual.Users</th><th scope=col>Registered.Users</th><th scope=col>Total.Users</th></tr>\n",
       "\t<tr><th></th><th scope=col>&lt;chr&gt;</th><th scope=col>&lt;int&gt;</th><th scope=col>&lt;int&gt;</th><th scope=col>&lt;int&gt;</th><th scope=col>&lt;int&gt;</th><th scope=col>&lt;int&gt;</th><th scope=col>&lt;int&gt;</th><th scope=col>&lt;dbl&gt;</th><th scope=col>&lt;dbl&gt;</th><th scope=col>&lt;int&gt;</th><th scope=col>&lt;int&gt;</th><th scope=col>&lt;int&gt;</th><th scope=col>&lt;int&gt;</th><th scope=col>&lt;int&gt;</th></tr>\n",
       "</thead>\n",
       "<tbody>\n",
       "\t<tr><th scope=row>1</th><td>1/1/2011</td><td>4</td><td>0</td><td>0</td><td>6</td><td>0</td><td>1</td><td>36.6</td><td>37.4</td><td>81</td><td>0</td><td>3</td><td>13</td><td>16</td></tr>\n",
       "\t<tr><th scope=row>2</th><td>1/1/2011</td><td>4</td><td>1</td><td>0</td><td>6</td><td>0</td><td>1</td><td>34.9</td><td>35.6</td><td>80</td><td>0</td><td>8</td><td>32</td><td>40</td></tr>\n",
       "\t<tr><th scope=row>3</th><td>1/1/2011</td><td>4</td><td>2</td><td>0</td><td>6</td><td>0</td><td>1</td><td>34.9</td><td>35.6</td><td>80</td><td>0</td><td>5</td><td>27</td><td>32</td></tr>\n",
       "\t<tr><th scope=row>4</th><td>1/1/2011</td><td>4</td><td>3</td><td>0</td><td>6</td><td>0</td><td>1</td><td>36.6</td><td>37.4</td><td>75</td><td>0</td><td>3</td><td>10</td><td>13</td></tr>\n",
       "\t<tr><th scope=row>5</th><td>1/1/2011</td><td>4</td><td>4</td><td>0</td><td>6</td><td>0</td><td>1</td><td>36.6</td><td>37.4</td><td>75</td><td>0</td><td>0</td><td> 1</td><td> 1</td></tr>\n",
       "\t<tr><th scope=row>6</th><td>1/1/2011</td><td>4</td><td>5</td><td>0</td><td>6</td><td>0</td><td>2</td><td>36.6</td><td>33.8</td><td>75</td><td>6</td><td>0</td><td> 1</td><td> 1</td></tr>\n",
       "</tbody>\n",
       "</table>\n"
      ],
      "text/latex": [
       "A data.frame: 6 × 14\n",
       "\\begin{tabular}{r|llllllllllllll}\n",
       "  & Date & Season & Hour & Holiday & Day.of.the.Week & Working.Day & Weather.Type & Temperature.F & Temperature.Feels.F & Humidity & Wind.Speed & Casual.Users & Registered.Users & Total.Users\\\\\n",
       "  & <chr> & <int> & <int> & <int> & <int> & <int> & <int> & <dbl> & <dbl> & <int> & <int> & <int> & <int> & <int>\\\\\n",
       "\\hline\n",
       "\t1 & 1/1/2011 & 4 & 0 & 0 & 6 & 0 & 1 & 36.6 & 37.4 & 81 & 0 & 3 & 13 & 16\\\\\n",
       "\t2 & 1/1/2011 & 4 & 1 & 0 & 6 & 0 & 1 & 34.9 & 35.6 & 80 & 0 & 8 & 32 & 40\\\\\n",
       "\t3 & 1/1/2011 & 4 & 2 & 0 & 6 & 0 & 1 & 34.9 & 35.6 & 80 & 0 & 5 & 27 & 32\\\\\n",
       "\t4 & 1/1/2011 & 4 & 3 & 0 & 6 & 0 & 1 & 36.6 & 37.4 & 75 & 0 & 3 & 10 & 13\\\\\n",
       "\t5 & 1/1/2011 & 4 & 4 & 0 & 6 & 0 & 1 & 36.6 & 37.4 & 75 & 0 & 0 &  1 &  1\\\\\n",
       "\t6 & 1/1/2011 & 4 & 5 & 0 & 6 & 0 & 2 & 36.6 & 33.8 & 75 & 6 & 0 &  1 &  1\\\\\n",
       "\\end{tabular}\n"
      ],
      "text/markdown": [
       "\n",
       "A data.frame: 6 × 14\n",
       "\n",
       "| <!--/--> | Date &lt;chr&gt; | Season &lt;int&gt; | Hour &lt;int&gt; | Holiday &lt;int&gt; | Day.of.the.Week &lt;int&gt; | Working.Day &lt;int&gt; | Weather.Type &lt;int&gt; | Temperature.F &lt;dbl&gt; | Temperature.Feels.F &lt;dbl&gt; | Humidity &lt;int&gt; | Wind.Speed &lt;int&gt; | Casual.Users &lt;int&gt; | Registered.Users &lt;int&gt; | Total.Users &lt;int&gt; |\n",
       "|---|---|---|---|---|---|---|---|---|---|---|---|---|---|---|\n",
       "| 1 | 1/1/2011 | 4 | 0 | 0 | 6 | 0 | 1 | 36.6 | 37.4 | 81 | 0 | 3 | 13 | 16 |\n",
       "| 2 | 1/1/2011 | 4 | 1 | 0 | 6 | 0 | 1 | 34.9 | 35.6 | 80 | 0 | 8 | 32 | 40 |\n",
       "| 3 | 1/1/2011 | 4 | 2 | 0 | 6 | 0 | 1 | 34.9 | 35.6 | 80 | 0 | 5 | 27 | 32 |\n",
       "| 4 | 1/1/2011 | 4 | 3 | 0 | 6 | 0 | 1 | 36.6 | 37.4 | 75 | 0 | 3 | 10 | 13 |\n",
       "| 5 | 1/1/2011 | 4 | 4 | 0 | 6 | 0 | 1 | 36.6 | 37.4 | 75 | 0 | 0 |  1 |  1 |\n",
       "| 6 | 1/1/2011 | 4 | 5 | 0 | 6 | 0 | 2 | 36.6 | 33.8 | 75 | 6 | 0 |  1 |  1 |\n",
       "\n"
      ],
      "text/plain": [
       "  Date     Season Hour Holiday Day.of.the.Week Working.Day Weather.Type\n",
       "1 1/1/2011 4      0    0       6               0           1           \n",
       "2 1/1/2011 4      1    0       6               0           1           \n",
       "3 1/1/2011 4      2    0       6               0           1           \n",
       "4 1/1/2011 4      3    0       6               0           1           \n",
       "5 1/1/2011 4      4    0       6               0           1           \n",
       "6 1/1/2011 4      5    0       6               0           2           \n",
       "  Temperature.F Temperature.Feels.F Humidity Wind.Speed Casual.Users\n",
       "1 36.6          37.4                81       0          3           \n",
       "2 34.9          35.6                80       0          8           \n",
       "3 34.9          35.6                80       0          5           \n",
       "4 36.6          37.4                75       0          3           \n",
       "5 36.6          37.4                75       0          0           \n",
       "6 36.6          33.8                75       6          0           \n",
       "  Registered.Users Total.Users\n",
       "1 13               16         \n",
       "2 32               40         \n",
       "3 27               32         \n",
       "4 10               13         \n",
       "5  1                1         \n",
       "6  1                1         "
      ]
     },
     "metadata": {},
     "output_type": "display_data"
    }
   ],
   "source": [
    "df<-read.csv('https://query.data.world/s/gclbsh77eglkvv6csrs2dlcgrl5b7h?dws=00000')\n",
    "head(df)"
   ]
  },
  {
   "cell_type": "markdown",
   "metadata": {},
   "source": [
    "### 1. Plan\n",
    "This is time trend data.  Make sure that you have the following variables:\n",
    "     <ol>\n",
    "         <li> 1A  Time variable is on the x-axis. </li>\n",
    "         <li> 1B  A continuous numeric variable should be on the y-axis. </li>\n",
    "         <li> 1C  Categorical variable(s) you want to show. </li>\n",
    "     </ol>\n",
    " </li>\n",
    " "
   ]
  },
  {
   "cell_type": "code",
   "execution_count": null,
   "metadata": {},
   "outputs": [],
   "source": []
  },
  {
   "cell_type": "markdown",
   "metadata": {},
   "source": [
    "### 2. Tidy\n",
    "     \n",
    "     \n",
    "<ol>\n",
    "         <li>Put the time (1A) into the format you need.  You can have two columns with the same values, in different formats, if you need.</li>\n",
    "         <li>Eliminate any rows that don't have date data, ensuring that you've checked the original dataset and it is not a result of reformatting.</li>\n",
    "         <li>Subset and rename (if required) columns from the dataset that you want to use.</li>\n",
    "         <li>Provide readable values that you might need for any legend (e.g. maxtp in example in week 3).</li>\n",
    " </ol>\n"
   ]
  },
  {
   "cell_type": "code",
   "execution_count": null,
   "metadata": {},
   "outputs": [],
   "source": []
  },
  {
   "cell_type": "code",
   "execution_count": null,
   "metadata": {},
   "outputs": [],
   "source": []
  },
  {
   "cell_type": "code",
   "execution_count": null,
   "metadata": {},
   "outputs": [],
   "source": []
  },
  {
   "cell_type": "code",
   "execution_count": null,
   "metadata": {},
   "outputs": [],
   "source": [
    "\n"
   ]
  },
  {
   "cell_type": "code",
   "execution_count": null,
   "metadata": {},
   "outputs": [],
   "source": []
  },
  {
   "cell_type": "markdown",
   "metadata": {},
   "source": [
    "### 3. Reshape, beautify and plot"
   ]
  },
  {
   "cell_type": "markdown",
   "metadata": {},
   "source": [
    "Remember that you have subsetted your data.  Do you need to aggregate before you plot?"
   ]
  },
  {
   "cell_type": "code",
   "execution_count": null,
   "metadata": {},
   "outputs": [],
   "source": []
  },
  {
   "cell_type": "code",
   "execution_count": null,
   "metadata": {},
   "outputs": [],
   "source": []
  },
  {
   "cell_type": "code",
   "execution_count": null,
   "metadata": {},
   "outputs": [],
   "source": []
  },
  {
   "cell_type": "code",
   "execution_count": null,
   "metadata": {},
   "outputs": [],
   "source": []
  },
  {
   "cell_type": "markdown",
   "metadata": {},
   "source": [
    "##### 3A  Plot a bar chart with the x-axis as the time / date (1A) and the y-axis as the continuous variable (1B).  Enhance it, saving  the theme, labels and x- and y- axis scaling as variables that can be added to the plot."
   ]
  },
  {
   "cell_type": "code",
   "execution_count": null,
   "metadata": {},
   "outputs": [],
   "source": []
  },
  {
   "cell_type": "code",
   "execution_count": null,
   "metadata": {},
   "outputs": [],
   "source": []
  },
  {
   "cell_type": "markdown",
   "metadata": {},
   "source": [
    "##### 3B Plot a stacked bar chart, using the information in 3A, and introducing the categorical variable (1C).  Enhance it by adding the saved theme, labels and scaling variables. "
   ]
  },
  {
   "cell_type": "code",
   "execution_count": null,
   "metadata": {},
   "outputs": [],
   "source": []
  },
  {
   "cell_type": "markdown",
   "metadata": {},
   "source": [
    "##### 3C  Plot a scatter plot with the data from 3A (you may change formats, but the same data should be used).  Enhance it by adding the saved theme, labels and scaling variables, if appropriate. "
   ]
  },
  {
   "cell_type": "code",
   "execution_count": null,
   "metadata": {},
   "outputs": [],
   "source": []
  },
  {
   "cell_type": "markdown",
   "metadata": {},
   "source": [
    "##### 3D Add the categorical variable to your scatter plot (i.e. same info as 3B). "
   ]
  },
  {
   "cell_type": "code",
   "execution_count": null,
   "metadata": {},
   "outputs": [],
   "source": []
  },
  {
   "cell_type": "code",
   "execution_count": null,
   "metadata": {},
   "outputs": [],
   "source": []
  },
  {
   "cell_type": "markdown",
   "metadata": {},
   "source": [
    "##### 3E Using a single value of the categorical variable (1C), plot a line chart."
   ]
  },
  {
   "cell_type": "code",
   "execution_count": null,
   "metadata": {},
   "outputs": [],
   "source": []
  },
  {
   "cell_type": "markdown",
   "metadata": {},
   "source": [
    "##### 3F Using all values of the categorical variable (1C), plot a stacked line chart."
   ]
  },
  {
   "cell_type": "code",
   "execution_count": null,
   "metadata": {},
   "outputs": [],
   "source": []
  },
  {
   "cell_type": "markdown",
   "metadata": {},
   "source": [
    "##### 3G Plot small multiples, using 1A on the x-axis and 1B on the y-axis.  You may choose your row and column values and the type of chart you want to generate."
   ]
  },
  {
   "cell_type": "code",
   "execution_count": null,
   "metadata": {},
   "outputs": [],
   "source": []
  },
  {
   "cell_type": "markdown",
   "metadata": {},
   "source": [
    "### 4. Evaluate\n",
    "\n",
    "Evaluate the charts you have plotted, using markdown or comments, saying which is more effective, and why you think so. "
   ]
  },
  {
   "cell_type": "markdown",
   "metadata": {},
   "source": []
  }
 ],
 "metadata": {
  "kernelspec": {
   "display_name": "R",
   "language": "R",
   "name": "ir"
  },
  "language_info": {
   "codemirror_mode": "r",
   "file_extension": ".r",
   "mimetype": "text/x-r-source",
   "name": "R",
   "pygments_lexer": "r",
   "version": "4.3.2"
  }
 },
 "nbformat": 4,
 "nbformat_minor": 4
}
